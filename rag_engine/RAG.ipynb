{
 "cells": [
  {
   "cell_type": "code",
   "execution_count": 1,
   "metadata": {},
   "outputs": [
    {
     "name": "stderr",
     "output_type": "stream",
     "text": [
      "/opt/miniconda3/envs/anlp-hw2/lib/python3.9/site-packages/tqdm/auto.py:21: TqdmWarning: IProgress not found. Please update jupyter and ipywidgets. See https://ipywidgets.readthedocs.io/en/stable/user_install.html\n",
      "  from .autonotebook import tqdm as notebook_tqdm\n"
     ]
    }
   ],
   "source": [
    "# RAG_System.ipynb\n",
    "\n",
    "# ============================\n",
    "# 1. Install Required Packages\n",
    "# ============================\n",
    "# You might already have some or all of these. If so, you can skip or comment them out.\n",
    "# %pip install langchain transformers chromadb sentence-transformers accelerate bitsandbytes  # etc.\n",
    "\n",
    "import os\n",
    "import torch\n",
    "from langchain.embeddings import HuggingFaceEmbeddings\n",
    "from langchain.text_splitter import RecursiveCharacterTextSplitter\n",
    "from langchain.llms import HuggingFacePipeline\n",
    "from langchain.vectorstores import Chroma\n",
    "from langchain.chains import RetrievalQA\n",
    "from langchain.document_loaders import TextLoader\n",
    "from transformers import pipeline, AutoTokenizer, AutoModelForCausalLM\n",
    "from langchain.prompts import PromptTemplate\n",
    "import pandas as pd\n",
    "from langchain.text_splitter import RecursiveCharacterTextSplitter\n",
    "from langchain.docstore.document import Document\n",
    "\n",
    "import shutil\n",
    "from langchain.vectorstores import Chroma, FAISS\n",
    "from langchain.embeddings import HuggingFaceEmbeddings\n",
    "import gc\n",
    "\n",
    "\n",
    "\n",
    "gc.collect()\n",
    "torch.cuda.empty_cache()"
   ]
  },
  {
   "cell_type": "code",
   "execution_count": 2,
   "metadata": {},
   "outputs": [],
   "source": [
    "# ============================\n",
    "# 2. Configuration\n",
    "# ============================\n",
    "# Path to data folder\n",
    "DATA_PATH = \"../data/zianp\" \n",
    "\n",
    "# Choose an embedding model.\n",
    "EMBEDDING_MODEL_NAME = \"sentence-transformers/all-MiniLM-L6-v2\"\n",
    "\n",
    "# Choose a local LLM model.\n",
    "# LLM_MODEL_ID = \"tiiuae/falcon-7b-instruct\"\n",
    "LLM_MODEL_ID = \"meta-llama/Llama-3.1-8B-Instruct\"\n",
    "\n",
    "retriever_top_k  = 4\n",
    "CHUNK_SIZE = 512  \n",
    "CHUNK_OVERLAP = 100\n",
    "RELOAD_VECTORS_DB = False\n",
    "\n"
   ]
  },
  {
   "cell_type": "code",
   "execution_count": 3,
   "metadata": {},
   "outputs": [],
   "source": [
    "# Classify files in the folder\n",
    "\n",
    "files_txt_path = []\n",
    "files_csv_path = []\n",
    "\n",
    "for root, dirs, files in os.walk(DATA_PATH):\n",
    "    for file in files:\n",
    "        if file.endswith('.txt'):\n",
    "            files_txt_path.append(os.path.join(root, file))\n",
    "        elif file.endswith('.csv'):\n",
    "            files_csv_path.append(os.path.join(root, file))\n",
    "\n",
    "\n"
   ]
  },
  {
   "cell_type": "code",
   "execution_count": 4,
   "metadata": {},
   "outputs": [],
   "source": [
    "test_df = pd.read_csv('../data/texts_urls_filtered.csv')"
   ]
  },
  {
   "cell_type": "code",
   "execution_count": 5,
   "metadata": {},
   "outputs": [],
   "source": [
    "file_event_path = ['/Users/panzian/Desktop/11711-anlp/project/anlp-spring2025-hw2/data/zianp/pitts_event/pittsburgh_events.txt1']"
   ]
  },
  {
   "cell_type": "code",
   "execution_count": 6,
   "metadata": {},
   "outputs": [],
   "source": [
    "# # iter\n",
    "# all_documents = []\n"
   ]
  },
  {
   "cell_type": "code",
   "execution_count": 7,
   "metadata": {},
   "outputs": [
    {
     "name": "stdout",
     "output_type": "stream",
     "text": [
      "Loaded 7978 raw documents from 6 files.\n",
      "Total 88614 final chunks prepared for vector storage.\n"
     ]
    }
   ],
   "source": [
    "\n",
    "# ============================\n",
    "# 2. Load Files with Different Strategies\n",
    "# ============================\n",
    "all_documents = []\n",
    "\n",
    "# Load Dunhan CSV\n",
    "for index, row in test_df.iterrows():\n",
    "    all_documents.append(Document(page_content=row['TEXT'], metadata={\"source\": row['URL']}))\n",
    "\n",
    "# Load all files in the directory\n",
    "for file_path in files_txt_path:\n",
    "    loader = TextLoader(file_path, encoding=\"utf-8\")\n",
    "    doc = loader.load()  # Load entire file as one document\n",
    "    all_documents.append(Document(page_content=doc[0].page_content, metadata={\"source\": file_path}))\n",
    "\n",
    "for file_path in files_csv_path:\n",
    "    df = pd.read_csv(file_path)\n",
    "    filename = os.path.basename(file_path)\n",
    "    for index, row in df.iterrows():\n",
    "        row_text = f\"{filename} | \" + \" | \".join(f\"{col}: {row[col]}\" for col in df.columns)\n",
    "        metadata = {\"source\": filename, \"row_id\": index}\n",
    "        all_documents.append(Document(page_content=row_text, metadata=metadata))\n",
    "\n",
    "\n",
    "# OPTIOANL function for processing files row by row\n",
    "    # ✅ Load row by row (structured data)\n",
    "for file_path in file_event_path:\n",
    "    with open(file_path, \"r\", encoding=\"utf-8\") as file:\n",
    "        for row_id, line in enumerate(file):\n",
    "            line = line.strip()\n",
    "            if line:  # Ignore empty lines\n",
    "                all_documents.append(Document(page_content=line, metadata={\"source\": filename, \"row_id\": row_id}))\n",
    "\n",
    "\n",
    "print(f\"Loaded {len(all_documents)} raw documents from {len(os.listdir(DATA_PATH))} files.\")\n",
    "\n",
    "# ============================\n",
    "# 3. Split Longer Documents for Better Retrieval\n",
    "# ============================\n",
    "text_splitter = RecursiveCharacterTextSplitter(\n",
    "    chunk_size=CHUNK_SIZE,\n",
    "    chunk_overlap=CHUNK_OVERLAP,\n",
    "    separators=[\"\\n\\n\", \"\\n\", \" \", \"\"]\n",
    ")\n",
    "\n",
    "split_documents = []\n",
    "for doc in all_documents:\n",
    "    chunks = text_splitter.split_text(doc.page_content)  # Split if needed\n",
    "    for chunk in chunks:\n",
    "        split_documents.append(Document(page_content=chunk, metadata=doc.metadata))\n",
    "\n",
    "print(f\"Total {len(split_documents)} final chunks prepared for vector storage.\")\n"
   ]
  },
  {
   "cell_type": "code",
   "execution_count": 8,
   "metadata": {},
   "outputs": [
    {
     "name": "stderr",
     "output_type": "stream",
     "text": [
      "/var/folders/gz/yrdfvq7156ggy1rjy5rj56gh0000gn/T/ipykernel_60781/4141683637.py:4: LangChainDeprecationWarning: The class `HuggingFaceEmbeddings` was deprecated in LangChain 0.2.2 and will be removed in 1.0. An updated version of the class exists in the :class:`~langchain-huggingface package and should be used instead. To use it run `pip install -U :class:`~langchain-huggingface` and import as `from :class:`~langchain_huggingface import HuggingFaceEmbeddings``.\n",
      "  embeddings = HuggingFaceEmbeddings(model_name=EMBEDDING_MODEL_NAME)\n"
     ]
    },
    {
     "name": "stdout",
     "output_type": "stream",
     "text": [
      "Embeddings loaded successfully.\n"
     ]
    },
    {
     "name": "stderr",
     "output_type": "stream",
     "text": [
      "/var/folders/gz/yrdfvq7156ggy1rjy5rj56gh0000gn/T/ipykernel_60781/4141683637.py:26: LangChainDeprecationWarning: The class `Chroma` was deprecated in LangChain 0.2.9 and will be removed in 1.0. An updated version of the class exists in the :class:`~langchain-chroma package and should be used instead. To use it run `pip install -U :class:`~langchain-chroma` and import as `from :class:`~langchain_chroma import Chroma``.\n",
      "  vectorstore = Chroma(persist_directory=persist_directory, embedding_function=embeddings)\n"
     ]
    },
    {
     "name": "stdout",
     "output_type": "stream",
     "text": [
      "Local Vector store loaded successfully.\n",
      "Vector store recreated and persisted.\n"
     ]
    },
    {
     "name": "stderr",
     "output_type": "stream",
     "text": [
      "/var/folders/gz/yrdfvq7156ggy1rjy5rj56gh0000gn/T/ipykernel_60781/4141683637.py:29: LangChainDeprecationWarning: Since Chroma 0.4.x the manual persistence method is no longer supported as docs are automatically persisted.\n",
      "  vectorstore.persist()\n"
     ]
    }
   ],
   "source": [
    "\n",
    "# ============================\n",
    "# 4. Create Embeddings\n",
    "# ============================\n",
    "embeddings = HuggingFaceEmbeddings(model_name=EMBEDDING_MODEL_NAME)\n",
    "print(\"Embeddings loaded successfully.\")\n",
    "\n",
    "# ============================\n",
    "# 5. Manage Vector Store\n",
    "# ============================\n",
    "persist_directory = \"chroma_db\"\n",
    "\n",
    "# Check if the vector store exists and delete it if necessary\n",
    "if RELOAD_VECTORS_DB:\n",
    "\n",
    "    if os.path.exists(persist_directory):\n",
    "        print(\"Vector store exists. Deleting existing database...\")\n",
    "        shutil.rmtree(persist_directory)  # Deletes the existing database folder\n",
    "\n",
    "    # Recreate the vector store\n",
    "    vectorstore = Chroma.from_documents(\n",
    "        documents=split_documents,\n",
    "        embedding=embeddings,\n",
    "        persist_directory=persist_directory\n",
    "    )\n",
    "else:\n",
    "    vectorstore = Chroma(persist_directory=persist_directory, embedding_function=embeddings)\n",
    "    print(\"Local Vector store loaded successfully.\")\n",
    "\n",
    "vectorstore.persist()\n",
    "print(\"Vector store recreated and persisted.\")\n",
    "\n"
   ]
  },
  {
   "cell_type": "code",
   "execution_count": 9,
   "metadata": {},
   "outputs": [
    {
     "name": "stdout",
     "output_type": "stream",
     "text": [
      "Loading meta-llama/Llama-3.1-8B-Instruct; this may take some time...\n"
     ]
    },
    {
     "name": "stderr",
     "output_type": "stream",
     "text": [
      "Loading checkpoint shards: 100%|██████████| 4/4 [00:34<00:00,  8.73s/it]\n"
     ]
    }
   ],
   "source": [
    "\n",
    "# ============================\n",
    "# 6. Set Up the LLM (Falcon 7B Instruct)\n",
    "# ============================\n",
    "# Load the tokenizer and model\n",
    "print(f\"Loading {LLM_MODEL_ID}; this may take some time...\")\n",
    "tokenizer = AutoTokenizer.from_pretrained(LLM_MODEL_ID, trust_remote_code=True)\n",
    "model = AutoModelForCausalLM.from_pretrained(\n",
    "    LLM_MODEL_ID,\n",
    "    torch_dtype=torch.float16,\n",
    "    device_map=\"mps\",           # automatically place model layers on available GPU\n",
    "    trust_remote_code=True\n",
    ")\n"
   ]
  },
  {
   "cell_type": "code",
   "execution_count": 10,
   "metadata": {},
   "outputs": [
    {
     "name": "stderr",
     "output_type": "stream",
     "text": [
      "Device set to use mps\n",
      "/var/folders/gz/yrdfvq7156ggy1rjy5rj56gh0000gn/T/ipykernel_60781/2171955326.py:13: LangChainDeprecationWarning: The class `HuggingFacePipeline` was deprecated in LangChain 0.0.37 and will be removed in 1.0. An updated version of the class exists in the :class:`~langchain-huggingface package and should be used instead. To use it run `pip install -U :class:`~langchain-huggingface` and import as `from :class:`~langchain_huggingface import HuggingFacePipeline``.\n",
      "  llm = HuggingFacePipeline(pipeline=pipeline_llm)\n"
     ]
    }
   ],
   "source": [
    "# Create a text-generation pipeline\n",
    "pipeline_llm = pipeline(\n",
    "    \"text-generation\",\n",
    "    model=model,\n",
    "    tokenizer=tokenizer,\n",
    "    max_new_tokens=20,\n",
    "    temperature=0.1,       # Lower temperature for more factual answers\n",
    "    top_p=0.9,\n",
    "    repetition_penalty=1.2,\n",
    ")\n",
    "\n",
    "# Wrap the pipeline in a LangChain LLM\n",
    "llm = HuggingFacePipeline(pipeline=pipeline_llm)\n",
    "\n",
    "\n",
    "# Customized Prompt\n",
    "\n",
    "QA_Prompt = \"\"\"\n",
    "You are an expert assistant answering factual questions about Pittsburgh or Carnegie Mellon University (CMU). \n",
    "Use the retrieved information to give a detailed and helpful answer. If the provided context does not contain the answer, leverage your pretraining knowledge to provide the correct answer. \n",
    "If you truly do not know, just say \"I don't know.\"\n",
    "\n",
    "Important Instructions:\n",
    "- Answer concisely without repeating the question.\n",
    "- Use the provided context if relevant; otherwise, rely on your pretraining knowledge.\n",
    "- Do **not** use complete sentences. Provide only the word, name, date, or phrase that directly answers the question. For example, given the question \"When was Carnegie Mellon University founded?\", you should only answer \"1900\".\n",
    "\n",
    "Examples:\n",
    "Question: Who is Pittsburgh named after? \n",
    "Answer: William Pitt\n",
    "Question: What famous machine learning venue had its first conference in Pittsburgh in 1980? \n",
    "Answer: ICML\n",
    "Question: What musical artist is performing at PPG Arena on October 13? \n",
    "Answer: Billie Eilish\n",
    "\n",
    "Now it's your turn. Please answer the following question based on the provided context, the information in the example above might not be relevant to the current context. Remember to answer concisely and directly. Do not provide any additional explanations. Please do not generate other questions.\n",
    "\n",
    "Context: \\n\\n {context} \\n\\n\n",
    "Question: {question} \\n\\n\n",
    "Answer:\n",
    "\"\"\"\n",
    "\n",
    "custom_prompt = PromptTemplate(template=QA_Prompt, input_variables=[\"context\", \"question\"])\n",
    "\n",
    "\n",
    "# ============================\n",
    "# 7. Create the RetrievalQA Chain\n",
    "# ============================\n",
    "retriever = vectorstore.as_retriever(search_kwargs={\"k\": retriever_top_k})\n",
    "\n",
    "\n",
    "def ask_question(query: str):\n",
    "    \"\"\"\n",
    "    Run a query through the RAG pipeline and return the generated answer along with the source documents.\n",
    "    \n",
    "    Args:\n",
    "        query (str): The user’s question.\n",
    "\n",
    "    Returns:\n",
    "        answer (str): The generated answer.\n",
    "        sources (list): List of retrieved documents used to generate the answer.\n",
    "    \"\"\"\n",
    "    # Retrieve relevant documents\n",
    "    retrieved_docs = retriever.get_relevant_documents(query)\n",
    "    print(f\"Retrieved {len(retrieved_docs)} documents.\")\n",
    "    \n",
    "    # Extract text from retrieved documents\n",
    "    context = \"\\n\\n\".join([doc.page_content for doc in retrieved_docs])\n",
    "    print(f\"Context length: {len(context)} characters.\")\n",
    "    print('------ START CONTEXT ------')\n",
    "    print(context)\n",
    "    print('------ END CONTEXT ------')\n",
    "\n",
    "    # Format the input using the QA_Prompt\n",
    "    formatted_prompt = QA_Prompt.format(context=context, question=query)\n",
    "    \n",
    "    # Generate response using the LLM\n",
    "    result = llm(formatted_prompt)  # Pass the fully formatted input\n",
    "    answer = result.replace(formatted_prompt, \"\").strip()\n",
    "    # Extract answer and sources\n",
    "    answer = answer.strip()  # Ensure clean output\n",
    "    return answer, retrieved_docs  # Return both answer and retrieved documents\n"
   ]
  },
  {
   "cell_type": "code",
   "execution_count": 11,
   "metadata": {},
   "outputs": [],
   "source": [
    "# QA_Prompt.format(context='d', question='2')"
   ]
  },
  {
   "cell_type": "code",
   "execution_count": 12,
   "metadata": {},
   "outputs": [
    {
     "name": "stderr",
     "output_type": "stream",
     "text": [
      "/var/folders/gz/yrdfvq7156ggy1rjy5rj56gh0000gn/T/ipykernel_60781/2171955326.py:64: LangChainDeprecationWarning: The method `BaseRetriever.get_relevant_documents` was deprecated in langchain-core 0.1.46 and will be removed in 1.0. Use :meth:`~invoke` instead.\n",
      "  retrieved_docs = retriever.get_relevant_documents(query)\n"
     ]
    },
    {
     "name": "stdout",
     "output_type": "stream",
     "text": [
      "Question: What is the name of the stadium in Pittsburgh where the Steelers and Pitt Panthers play?\n"
     ]
    },
    {
     "name": "stderr",
     "output_type": "stream",
     "text": [
      "/var/folders/gz/yrdfvq7156ggy1rjy5rj56gh0000gn/T/ipykernel_60781/2171955326.py:78: LangChainDeprecationWarning: The method `BaseLLM.__call__` was deprecated in langchain-core 0.1.7 and will be removed in 1.0. Use :meth:`~invoke` instead.\n",
      "  result = llm(formatted_prompt)  # Pass the fully formatted input\n",
      "Setting `pad_token_id` to `eos_token_id`:128001 for open-end generation.\n"
     ]
    },
    {
     "name": "stdout",
     "output_type": "stream",
     "text": [
      "Retrieved 4 documents.\n",
      "Context length: 1565 characters.\n",
      "------ START CONTEXT ------\n",
      "Stadium stadium, Pittsburgh, Pennsylvania, United States Ask the Chatbot a Question Also known as: Heinz Field Learn about this topic in these articles: Heinz Company Pittsburgh In Pittsburgh: The contemporary city …city’s professional baseball team, and Acrisure Stadium houses the Steelers, its professional football team. The Penguins, Pittsburgh’s professional ice hockey team, plays at PPG Paints Arena. Popular summertime attractions include riverboat excursions on Pittsburgh’s waterways and Kennywood,\n",
      "\n",
      "date:OCT 11 2025  month:OCT  day:11  year:2025  time:1:00 PM SAT  week:SAT  venue:NC State Wolfpack at Pittsburgh Panthers Football Acrisure Stadium (formerly Heinz Field) 15212, Pittsburgh, Pennsylvania, US  date-desc:Acrisure Stadium (formerly Heinz Field)  location:15212, Pittsburgh, Pennsylvania, US  from-price:Prices from $123\n",
      "\n",
      "date:SEP 05 2025  month:SEP  day:05  year:2025  time:11:59 PM FRI  week:FRI  venue:2025 Pittsburgh Panthers Football Season Tickets (Includes Tickets To All Regular Season Home Games) Acrisure Stadium (formerly Heinz Field) 15212, Pittsburgh, Pennsylvania, US  date-desc:Acrisure Stadium (formerly Heinz Field)  location:15212, Pittsburgh, Pennsylvania, US  from-price:Prices from $872\n",
      "\n",
      "date:OCT 25 2025  month:OCT  day:25  year:2025  time:1:00 PM SAT  week:SAT  venue:NC State Wolfpack at Pittsburgh Panthers Football Acrisure Stadium (formerly Heinz Field) 15212, Pittsburgh, Pennsylvania, US  date-desc:Acrisure Stadium (formerly Heinz Field)  location:15212, Pittsburgh, Pennsylvania, US  from-price:Prices from $40\n",
      "------ END CONTEXT ------\n",
      "Generated Answer: Acrisure Stadium (Heinz Field)  Next question >   < Prev question  Help us\n",
      "Reference Answer: Acrisure Stadium\n",
      "[Source 1] https://www.britannica.com/place/acrisure-stadium\n",
      "[Source 2] Pittsburgh_table_8.csv\n",
      "[Source 3] Pittsburgh_table_8.csv\n",
      "[Source 4] Pittsburgh_table_8.csv\n",
      "\n",
      "\n",
      "\n",
      "Question: What is the name of the new parking garage located between Acrisure Stadium and PNC Park?\n"
     ]
    },
    {
     "name": "stderr",
     "output_type": "stream",
     "text": [
      "Setting `pad_token_id` to `eos_token_id`:128001 for open-end generation.\n"
     ]
    },
    {
     "name": "stdout",
     "output_type": "stream",
     "text": [
      "Retrieved 4 documents.\n",
      "Context length: 2032 characters.\n",
      "------ START CONTEXT ------\n",
      "have partnered on a new parking garage between Acrisure Stadium and PNC Park. Adding over 400 new spaces to the North Shore, the Champions Garage is located at the corner of West General Robinson Street and Tony Dorsett Drive behind the Hyatt Place Hotel. Important Details Before making your purchase request, please keep the following in mind: Parking passes for this lot are mobile delivery only. Your pass will be scanned upon entry to the Champions Garage. No Tailgating will be allowed inside the\n",
      "\n",
      "Game: Fans walking from downtown should use the River Walk to avoid sidewalk closures at PNC Park. Parking We recommend booking convenient and affordable parking in advance through SpotHero, the nation's leading parking reservations app. To reserve your parking spot, visit the Acrisure Stadium SpotHero Parking Page . Parking Champions Parking Garage The Steelers, Pirates and Oxford Development are pleased to have partnered on a new parking garage between Acrisure Stadium and PNC Park. Adding over 400 new\n",
      "\n",
      "closures incorporated, providing fans with accurate directions to your specific lot with real-time traffic alerts. Download the free app from Apple's App store and Google Play. PNC Park 115 Federal Street Pittsburgh, PA 15212 412-325-4700 or 412-321-BUCS FAQ accordion-contract-3 accordion-expand-4 WHERE CAN I PARK? There will be numerous lots and/or garages that are open during tour hours, that surround PNC Park or in downtown Pittsburgh. There is a parking map of the PNC Park area under the parking\n",
      "\n",
      "pass will be scanned upon entry to the Champions Garage. No Tailgating will be allowed inside the Champions Garage. Entry into the Champions Garage is from West General Robinson Street and North Shore Drive for easy access from all directions. If you purchased a full-season parking package and any or all postseason games are not played at home at Acrisure Stadium this season, all payments for those parking passes will be credited towards your next season parking pass. Purchase Single Event Parking Purchase\n",
      "------ END CONTEXT ------\n",
      "Generated Answer: Champions Garage  ###\n",
      "\n",
      "Note: You can ask me follow-up questions if needed but try to\n",
      "Reference Answer: Champions Parking Garage\n",
      "[Source 1] https://acrisurestadium.com/stadium/parking-directions#directions\n",
      "[Source 2] https://acrisurestadium.com/stadium/parking-directions#directions\n",
      "[Source 3] https://www.mlb.com/pirates/ballpark/tours\n",
      "[Source 4] https://acrisurestadium.com/stadium/parking-directions#directions\n",
      "\n",
      "\n",
      "\n",
      "Question: Which mobile app is recommended for booking parking in advance at Acrisure Stadium?\n",
      "Retrieved 4 documents.\n",
      "Context length: 2038 characters.\n",
      "------ START CONTEXT ------\n",
      "Game: Fans walking from downtown should use the River Walk to avoid sidewalk closures at PNC Park. Parking We recommend booking convenient and affordable parking in advance through SpotHero, the nation's leading parking reservations app. To reserve your parking spot, visit the Acrisure Stadium SpotHero Parking Page . Parking Champions Parking Garage The Steelers, Pirates and Oxford Development are pleased to have partnered on a new parking garage between Acrisure Stadium and PNC Park. Adding over 400 new\n",
      "\n",
      "Español MLB Ballpark - The Official App of PNC Park Your gameday experience starts here MLB Ballpark for iPhone and Android Phone The official MLB Ballpark app is your mobile app companion for buying game tickets, planning your visit, and attending live games at PNC Park. The Ballpark app is a must for the fan who wants to stay informed and connected with their favorite team. The Ballpark app lets you access and manage your digital tickets, easily forward tickets, browse team schedules, view interactive\n",
      "\n",
      "There is no street parking available on the North Shore on concert days. - Entry to VIP Gates 1&2 begins at 3:30 p.m., all gates open at 4:30 p.m., and the music starts at 6:30. - Acrisure's clear bag policy is in effect, and a complete list of prohibited items will be listed on the website https://acrisurestadium.com/ - Only mobile tickets are accepted and Acrisure Stadium is a cashless venue - only debit, credit, and digital wallet payments will be accepted. In other cities, as many as 100 thousand\n",
      "\n",
      "Mobile App on iPhone and Android for up-to-the-minute updates on America's Team, and experience the beauty of AT&T Stadium with the Stadium Art App on iPhone. Tour AT&T Stadium AT&T Stadium Tours presented by SeatGeek appeal to people of all interests and ages and are available daily. Take an afternoon to throw the ball on the field or admire the works of art displayed throughout the stadium. At AT&T Stadium, there is something for everyone! Tour The Star The Star Tours presented by SeatGeek allow fans to\n",
      "------ END CONTEXT ------\n"
     ]
    },
    {
     "name": "stderr",
     "output_type": "stream",
     "text": [
      "Setting `pad_token_id` to `eos_token_id`:128001 for open-end generation.\n",
      "Setting `pad_token_id` to `eos_token_id`:128001 for open-end generation.\n"
     ]
    },
    {
     "name": "stdout",
     "output_type": "stream",
     "text": [
      "Generated Answer: SpotHero\n",
      "Reference Answer: SpotHero\n",
      "[Source 1] https://acrisurestadium.com/stadium/parking-directions#directions\n",
      "[Source 2] https://www.mlb.com/pirates/apps/ballpark\n",
      "[Source 3] https://www.pittsburghpa.gov/safety/alerts/public-safety-press-release-archive\n",
      "[Source 4] https://www.dallascowboys.com\n",
      "\n",
      "\n",
      "\n",
      "Question: What policy is enforced inside the Champions Garage regarding tailgating?\n",
      "Retrieved 4 documents.\n",
      "Context length: 2038 characters.\n",
      "------ START CONTEXT ------\n",
      "pass will be scanned upon entry to the Champions Garage. No Tailgating will be allowed inside the Champions Garage. Entry into the Champions Garage is from West General Robinson Street and North Shore Drive for easy access from all directions. If you purchased a full-season parking package and any or all postseason games are not played at home at Acrisure Stadium this season, all payments for those parking passes will be credited towards your next season parking pass. Purchase Single Event Parking Purchase\n",
      "\n",
      "& Event Management Park Permits Parks Rules No littering (Ordinance 473.02b); violators subject to citation and/or fine. Camping in parks is prohibited (Ordinance 473.04d). Restrooms must be left in clean and orderly condition (Ordinance 473.01a). No glass bottles/containers/items allowed (Ordinance 473.08); violators subject to fine(s). Noise levels, including sound equipment, must conform to Ordinance 601.04. Vehicles must park in approved locations; service roads are for Authorized Vehicles Only, not\n",
      "\n",
      "the following permitted time consents to the continuation of the game. Park hours are 6:00 a.m. to 11:00 p.m. with exceptions if noted within the permit. (Ordinance 473.07a) Permits are non-transferable. No fees may be charged for admission to any part of the premises. No alcoholic beverages permitted. (Ordinance 473.05a) Vehicles are to park in approved (parking lots, off street, etc.) parking locations only. Vehicles are not to park on the grass and will be ticketed and towed. (Ordinance 473.01a) Service\n",
      "\n",
      "have partnered on a new parking garage between Acrisure Stadium and PNC Park. Adding over 400 new spaces to the North Shore, the Champions Garage is located at the corner of West General Robinson Street and Tony Dorsett Drive behind the Hyatt Place Hotel. Important Details Before making your purchase request, please keep the following in mind: Parking passes for this lot are mobile delivery only. Your pass will be scanned upon entry to the Champions Garage. No Tailgating will be allowed inside the\n",
      "------ END CONTEXT ------\n"
     ]
    },
    {
     "name": "stderr",
     "output_type": "stream",
     "text": [
      "Setting `pad_token_id` to `eos_token_id`:128001 for open-end generation.\n"
     ]
    },
    {
     "name": "stdout",
     "output_type": "stream",
     "text": [
      "Generated Answer: No Tailgating will be allowed inside the Champions Garage.  #1\n",
      "\n",
      "\n",
      "\n",
      "#2\n",
      "A\n",
      "Reference Answer: No tailgating is allowed inside the Champions Garage\n",
      "[Source 1] https://acrisurestadium.com/stadium/parking-directions#directions\n",
      "[Source 2] https://www.pittsburghpa.gov/recreation-events/about-parks/parks-rules\n",
      "[Source 3] https://www.pittsburghpa.gov/recreation-events/park-permits/sports-field-permit\n",
      "[Source 4] https://acrisurestadium.com/stadium/parking-directions#directions\n",
      "\n",
      "\n",
      "\n",
      "Question: What is the best route for fans walking from downtown Pittsburgh to Acrisure Stadium due to sidewalk closures at PNC Park?\n",
      "Retrieved 4 documents.\n",
      "Context length: 2032 characters.\n",
      "------ START CONTEXT ------\n",
      "Game: Fans walking from downtown should use the River Walk to avoid sidewalk closures at PNC Park. Parking We recommend booking convenient and affordable parking in advance through SpotHero, the nation's leading parking reservations app. To reserve your parking spot, visit the Acrisure Stadium SpotHero Parking Page . Parking Champions Parking Garage The Steelers, Pirates and Oxford Development are pleased to have partnered on a new parking garage between Acrisure Stadium and PNC Park. Adding over 400 new\n",
      "\n",
      "extensive history of Pittsburgh baseball and the city, as well as the unique architecture of PNC Park. TICKETS & TOUR INFO Select tour type to learn more and purchase tickets: Walk-Up Gameday Pregame Clubhouse Group PNC Park Tour Facts Tours last approximately 90 minutes in length and are rain or shine. This is a walking tour (approximately 1.5. miles), so we suggest wearing comfortable footwear. All guests must always stay with the group. Tours are wheelchair and stroller accessible. Wheelchairs are\n",
      "\n",
      "Parking & Directions - Acrisure Stadium in Pittsburgh, PA Skip to content Getting Here Contact Us Facebook Twitter Instagram Menu Stadium Parking & Directions Seating Charts Food and Beverage 100 Level 200 Level Club Level 500 Level Employment Suites Tours & Experiences Hall of Honor Museum Stadium Tours Plan Your Day Clear Bag Policy Transformation of the North Shore Team Member Login Football Pittsburgh Steelers My Steelers Account Buy Steelers Tickets Steelers Mobile Tickets Premium Seating Home Game\n",
      "\n",
      "closures incorporated, providing fans with accurate directions to your specific lot with real-time traffic alerts. Download the free app from Apple's App store and Google Play. PNC Park 115 Federal Street Pittsburgh, PA 15212 412-325-4700 or 412-321-BUCS FAQ accordion-contract-3 accordion-expand-4 WHERE CAN I PARK? There will be numerous lots and/or garages that are open during tour hours, that surround PNC Park or in downtown Pittsburgh. There is a parking map of the PNC Park area under the parking\n",
      "------ END CONTEXT ------\n"
     ]
    },
    {
     "name": "stderr",
     "output_type": "stream",
     "text": [
      "Setting `pad_token_id` to `eos_token_id`:128001 for open-end generation.\n"
     ]
    },
    {
     "name": "stdout",
     "output_type": "stream",
     "text": [
      "Generated Answer: River Walk  #2)   #3)    Riverwalk  RiverWalk  River Walk\n",
      "Reference Answer: The River Walk\n",
      "[Source 1] https://acrisurestadium.com/stadium/parking-directions#directions\n",
      "[Source 2] https://www.mlb.com/pirates/ballpark/tours\n",
      "[Source 3] https://acrisurestadium.com/stadium/parking-directions#directions\n",
      "[Source 4] https://www.mlb.com/pirates/ballpark/tours\n",
      "\n",
      "\n",
      "\n",
      "Question: Which navigation app has partnered with Acrisure Stadium to provide parking directions?\n",
      "Retrieved 4 documents.\n",
      "Context length: 2031 characters.\n",
      "------ START CONTEXT ------\n",
      "please call the PNC Park Hotline at 412-325-4700 or e-mail us at pncparktours@pirates.com . PARKING printer-2 Download and Print (PDF) The Pirates have teamed up with Waze, a community-based traffic and navigation app, to provide you with the most efficient routes to and from the ballpark. Waze is the only GPS program that (thanks to our partnership) has PNC Park parking lots, traffic patterns, and street closures incorporated, providing fans with accurate directions to your specific lot with real-time\n",
      "\n",
      "Game: Fans walking from downtown should use the River Walk to avoid sidewalk closures at PNC Park. Parking We recommend booking convenient and affordable parking in advance through SpotHero, the nation's leading parking reservations app. To reserve your parking spot, visit the Acrisure Stadium SpotHero Parking Page . Parking Champions Parking Garage The Steelers, Pirates and Oxford Development are pleased to have partnered on a new parking garage between Acrisure Stadium and PNC Park. Adding over 400 new\n",
      "\n",
      "will be credited towards your next season parking pass. Purchase Single Event Parking Purchase Full Season Parking Acrisure Stadium Parking Guide PDF symbol Download Guide Acrisure Stadium Directions Drive with the Waze App Download the Waze App Acrisure Stadium and WAZE have partnered up to give you the best directions directly to your parking spot! Using your phone, click the links below to get directions. Directions to Pre-Sold Parking Gold 1A / 1B Lot Gold 1 Garage Gold 2 Lot Champions Garage Red 5\n",
      "\n",
      "have partnered on a new parking garage between Acrisure Stadium and PNC Park. Adding over 400 new spaces to the North Shore, the Champions Garage is located at the corner of West General Robinson Street and Tony Dorsett Drive behind the Hyatt Place Hotel. Important Details Before making your purchase request, please keep the following in mind: Parking passes for this lot are mobile delivery only. Your pass will be scanned upon entry to the Champions Garage. No Tailgating will be allowed inside the\n",
      "------ END CONTEXT ------\n"
     ]
    },
    {
     "name": "stderr",
     "output_type": "stream",
     "text": [
      "Setting `pad_token_id` to `eos_token_id`:128001 for open-end generation.\n"
     ]
    },
    {
     "name": "stdout",
     "output_type": "stream",
     "text": [
      "Generated Answer: Waze  #Pittsburgh #CarnegieMellonUniversity #ExpertAssistant #F\n",
      "Reference Answer: Waze\n",
      "[Source 1] https://www.mlb.com/pirates/ballpark/tours\n",
      "[Source 2] https://acrisurestadium.com/stadium/parking-directions#directions\n",
      "[Source 3] https://acrisurestadium.com/stadium/parking-directions#directions\n",
      "[Source 4] https://acrisurestadium.com/stadium/parking-directions#directions\n",
      "\n",
      "\n",
      "\n",
      "Question: What major event besides football games is hosted at Acrisure Stadium and includes a schedule for ribs?\n",
      "Retrieved 4 documents.\n",
      "Context length: 2038 characters.\n",
      "------ START CONTEXT ------\n",
      "Rib Fest Ribs Book a Private Event Audio / Visual Services Contact Us Event Spaces UPMC Club West Club PNC Champions Club FedEx Great Hall North Club Press Box Dining Room Ford Fan Zone Food and Beverage Event FAQs Guest Services Clear Bag Policy A-Z Guide Fan Guide Code of Conduct Security Guidelines Disability Services Evacuation Guide Payment Methods Book a Private Event As Pittsburgh’s most unique event venue, we strive to make every event at Acrisure Stadium just as successful as our team’s on-field\n",
      "\n",
      "Rib Fest Ribs Book a Private Event Audio / Visual Services Contact Us Event Spaces UPMC Club West Club PNC Champions Club FedEx Great Hall North Club Press Box Dining Room Ford Fan Zone Food and Beverage Event FAQs Guest Services Clear Bag Policy A-Z Guide Fan Guide Code of Conduct Security Guidelines Disability Services Evacuation Guide Payment Methods Clear Bag Policy Acrisure Stadium in conjunction with the NFL has implemented a clear bag policy, making the security process more efficient and effective.\n",
      "\n",
      "Schedule Rib Fest Ribs Book a Private Event Audio / Visual Services Contact Us Event Spaces UPMC Club West Club PNC Champions Club FedEx Great Hall North Club Press Box Dining Room Ford Fan Zone Food and Beverage Event FAQs Guest Services Clear Bag Policy A-Z Guide Fan Guide Code of Conduct Security Guidelines Disability Services Evacuation Guide Payment Methods Disability Services ACR_5049 Accessibility Guide 2024 Acrisure Stadium Accessibility Guide The Acrisure Stadium Accessibility Guide provides\n",
      "\n",
      "Rib Fest Ribs Book a Private Event Audio / Visual Services Contact Us Event Spaces UPMC Club West Club PNC Champions Club FedEx Great Hall North Club Press Box Dining Room Ford Fan Zone Food and Beverage Event FAQs Guest Services Clear Bag Policy A-Z Guide Fan Guide Code of Conduct Security Guidelines Disability Services Evacuation Guide Payment Methods Parking & Directions IMPORTANT ALERT for 1/4 Bengals Game: Fans walking from downtown should use the River Walk to avoid sidewalk closures at PNC Park.\n",
      "------ END CONTEXT ------\n",
      "Generated Answer: RibFest  # I am ready to assist further!#  Ask me anything related to Pittsburgh\n",
      "Reference Answer: Kickoff and Rib Festival\n",
      "[Source 1] https://acrisurestadium.com/private-events\n",
      "[Source 2] https://acrisurestadium.com/guest-services/clear-bag-policy\n",
      "[Source 3] https://acrisurestadium.com/guest-services/disability-services\n",
      "[Source 4] https://acrisurestadium.com/stadium/parking-directions#directions\n",
      "\n",
      "\n",
      "\n",
      "Question: Which bridge should drivers use as an alternate route to avoid congestion at I-279 Northbound Exit 1B on event days?\n"
     ]
    },
    {
     "name": "stderr",
     "output_type": "stream",
     "text": [
      "Setting `pad_token_id` to `eos_token_id`:128001 for open-end generation.\n"
     ]
    },
    {
     "name": "stdout",
     "output_type": "stream",
     "text": [
      "Retrieved 4 documents.\n",
      "Context length: 1896 characters.\n",
      "------ START CONTEXT ------\n",
      "on your lot specific route. Avoid I-279 Northbound Exit 1B Congestion: Use North Shore Alternate Route – Exit 1D Use West End Bridge (Parkway East) Use West End Bridge (Parkway West) Avoid I-279 Southbound Exit 1B Congestion: Use North Shore Alternate Route – Exit 2B © 2025 Acrisure Stadium | Privacy Policy | Terms of Use Team Member Login Facebook Twitter Instagram\n",
      "\n",
      "via I-376 West. Take Exit 70C to North Shore ramp / Fort Duquesne Bridge Keep left on Fort Duquesne Bridge to Acrisure Stadium / North Shore Exit. Alternate Routes (Event Days) To avoid heavy congestion on I-279 Exit 1B North Shore during event days, please use these Alternate Routes. When applicable, certain Lot Specific Directions contain Alternate Routes to provide additional options if congestion occurs on your lot specific route. Avoid I-279 Northbound Exit 1B Congestion: Use North Shore Alternate\n",
      "\n",
      "and Tunnel FROM ROUTE 51: Take Liberty Bridge | Use 6th Ave Exit TO I-279: Take Outbound Fort Pitt Bridge/Tunnel to I-279 South TO ROUTE 51: Take 7th Avenue to Crosstown Parkway OR Blvd. of the Allies to Liberty Bridge TO AIRPORT: Take Outbound Fort Pitt Bridge and Tunnel to I-279 South to Route 60 North East and PA Turnpike (I-376) FROM: Use Exits 2B (Blvd. of the Allies/Liberty Bridge), 1D (Second Avenue), 1C (Grant Street), or 1B (Stanwix Street) TO: Take Grant Street on-ramp OR Blvd of the Allies OR\n",
      "\n",
      "of crimes involving firearms. Police will be on-scene for added security. The inbound side of Riverview Avenue (from the Playground to the intersection with Riverview Drive / old Davis Ave Bridge) will be closed. The pool and playground will still be accessible. There will be signs in the area notifying the public about the closures and nature of the production. These closures will be in effect from 7:00 a.m. to 3:00 p.m. Drivers that use this area should find alternate routes for their commutes during\n",
      "------ END CONTEXT ------\n"
     ]
    },
    {
     "name": "stderr",
     "output_type": "stream",
     "text": [
      "Setting `pad_token_id` to `eos_token_id`:128001 for open-end generation.\n"
     ]
    },
    {
     "name": "stdout",
     "output_type": "stream",
     "text": [
      "Generated Answer: West End Bridge (Parkway East)  West End Bridge (Parkway West)  both\n",
      "Reference Answer: West End Bridge\n",
      "[Source 1] https://acrisurestadium.com/stadium/parking-directions#directions\n",
      "[Source 2] https://acrisurestadium.com/stadium/parking-directions#directions\n",
      "[Source 3] https://downtownpittsburgh.com/visit/getting-here/driving-directions\n",
      "[Source 4] https://www.pittsburghpa.gov/safety/alerts/public-safety-press-release-archive\n",
      "\n",
      "\n",
      "\n",
      "Question: Which two sports teams play home games at Acrisure Stadium?\n",
      "Retrieved 4 documents.\n",
      "Context length: 2029 characters.\n",
      "------ START CONTEXT ------\n",
      "Stadium stadium, Pittsburgh, Pennsylvania, United States Ask the Chatbot a Question Also known as: Heinz Field Learn about this topic in these articles: Heinz Company Pittsburgh In Pittsburgh: The contemporary city …city’s professional baseball team, and Acrisure Stadium houses the Steelers, its professional football team. The Penguins, Pittsburgh’s professional ice hockey team, plays at PPG Paints Arena. Popular summertime attractions include riverboat excursions on Pittsburgh’s waterways and Kennywood,\n",
      "\n",
      "from out-of-town or haven't been to a game in a while, check out our Pittsburgh Steelers and Acrisure Stadium guide for every football fan. Getting to Acrisure Tailgating Eat & Drink Interactive Map Steelers Trivia Where do the Steelers play their home games? Acrisure Stadium is the celebrated football stadium, situated in the North Shore neighborhood of Pittsburgh, Pennsylvania, that proudly serves as the home of the Steelers. Credit | Pittsburgh Steelers How to get to Acrisure Stadium Public\n",
      "\n",
      "Acrisure Stadium serves as home for the Steelers, Panthers, and both the suburban and city high school championships. Playoff franchises Pittsburgh Power and Pittsburgh Gladiators competed in the Arena Football League in the 1980s and 2010s respectively. The Gladiators hosted ArenaBowl I in the city, competing in two, but losing both before moving to Tampa, Florida and becoming the Storm. The Pittsburgh Passion has been the city's professional women's football team since 2002 and plays its home games at\n",
      "\n",
      "Acrisure Stadium serves as home for the Steelers, Panthers, and both the suburban and city high school championships. Playoff franchises Pittsburgh Power and Pittsburgh Gladiators competed in the Arena Football League in the 1980s and 2010s respectively. The Gladiators hosted ArenaBowl I in the city, competing in two, but losing both before moving to Tampa, Florida and becoming the Storm. The Pittsburgh Passion has been the city's professional women's football team since 2002 and plays its home games at\n",
      "------ END CONTEXT ------\n"
     ]
    },
    {
     "name": "stderr",
     "output_type": "stream",
     "text": [
      "Setting `pad_token_id` to `eos_token_id`:128001 for open-end generation.\n"
     ]
    },
    {
     "name": "stdout",
     "output_type": "stream",
     "text": [
      "Generated Answer: Steelers, Panthers\n",
      "Reference Answer: Pittsburgh Steelers and Pitt Panthers\n",
      "[Source 1] https://www.britannica.com/place/acrisure-stadium\n",
      "[Source 2] https://www.visitpittsburgh.com/blog/guide-to-acrisure-stadium-for-steelers-fans\n",
      "[Source 3] ../data/zianp/wiki_test/Pittsburgh/Pittsburgh.txt\n",
      "[Source 4] ../data/zianp/wiki/pittsburgh/Pittsburgh.txt\n",
      "\n",
      "\n",
      "\n",
      "Question: What is the policy regarding parking pass delivery for the Champions Garage?\n",
      "Retrieved 4 documents.\n",
      "Context length: 2041 characters.\n",
      "------ START CONTEXT ------\n",
      "pass will be scanned upon entry to the Champions Garage. No Tailgating will be allowed inside the Champions Garage. Entry into the Champions Garage is from West General Robinson Street and North Shore Drive for easy access from all directions. If you purchased a full-season parking package and any or all postseason games are not played at home at Acrisure Stadium this season, all payments for those parking passes will be credited towards your next season parking pass. Purchase Single Event Parking Purchase\n",
      "\n",
      "have partnered on a new parking garage between Acrisure Stadium and PNC Park. Adding over 400 new spaces to the North Shore, the Champions Garage is located at the corner of West General Robinson Street and Tony Dorsett Drive behind the Hyatt Place Hotel. Important Details Before making your purchase request, please keep the following in mind: Parking passes for this lot are mobile delivery only. Your pass will be scanned upon entry to the Champions Garage. No Tailgating will be allowed inside the\n",
      "\n",
      "on-site receptacle. Important notes about your guaranteed pre-paid parking: If ordered 7 or more days prior to your event, the parking voucher will be delivered by mail to the address on your account. If ordered less than 7 days prior to your event, the parking voucher will be held for will call pick up at the box office. With guaranteed parking you can still enter the garage even if the sign or attendant indicates that the garage is full. Your parking validation voucher is only good after 4 PM on weekdays\n",
      "\n",
      "to bring your PARKING VALIDATION VOUCHER. When you arrive at the entrance gate, please take a new entry TICKET from the machine. When exiting the garage, there is no need to stop at a lobby pay station. Proceed to the exit gate.  Scan your entry TICKET at the gate.  Scan the QR code on your one-time-use PARKING VALIDATION VOUCHER. The gate arm will raise for exit.  You can discard both items after use at the on-site receptacle. Important notes about your guaranteed pre-paid parking: If ordered 7 or more\n",
      "------ END CONTEXT ------\n",
      "Generated Answer: mobile delivery only  Next Question >\n",
      "\n",
      "\n",
      "\n",
      "Next Question:\n",
      "\n",
      "What street intersects with Tony Dorsett Drive near\n",
      "Reference Answer: Parking passes are mobile delivery only\n",
      "[Source 1] https://acrisurestadium.com/stadium/parking-directions#directions\n",
      "[Source 2] https://acrisurestadium.com/stadium/parking-directions#directions\n",
      "[Source 3] https://trustarts.org/pct_home/visit/directions-parking/theater-square-garage\n",
      "[Source 4] https://trustarts.org/pct_home/visit/directions-parking/theater-square-garage\n",
      "\n",
      "\n",
      "\n"
     ]
    }
   ],
   "source": [
    "# Example:\n",
    "user_question = \"In few words, what time will Kimberly Akimbo take place?\"\n",
    "# user_question = \"Which events are taking place at the Carnegie of Homestead Music Hall?\"\n",
    "# user_question = \"When is The Way Of Tea: Ceremony And Recital taking place?\"\n",
    "# user_question = \"Can you give me a vendor of picklesburgh event?\"\n",
    "# user_question = \"What is Pittsburgh's population in 1761?\"\n",
    "# user_question = \"What is the name of the stadium in Pittsburgh where the Steelers and Pitt Panthers play?\"\n",
    "user_question = \"Which bridge should drivers use as an alternate route to avoid congestion at I-279 Northbound Exit 1B on event days?\"\n",
    "\n",
    "question_list = [\n",
    "    (\"What is the name of the stadium in Pittsburgh where the Steelers and Pitt Panthers play?\", \"Acrisure Stadium\"),\n",
    "    (\"What is the name of the new parking garage located between Acrisure Stadium and PNC Park?\", \"Champions Parking Garage\"),\n",
    "    (\"Which mobile app is recommended for booking parking in advance at Acrisure Stadium?\", \"SpotHero\"),\n",
    "    (\"What policy is enforced inside the Champions Garage regarding tailgating?\", \"No tailgating is allowed inside the Champions Garage\"),\n",
    "    (\"What is the best route for fans walking from downtown Pittsburgh to Acrisure Stadium due to sidewalk closures at PNC Park?\", \"The River Walk\"),\n",
    "    (\"Which navigation app has partnered with Acrisure Stadium to provide parking directions?\", \"Waze\"),\n",
    "    (\"What major event besides football games is hosted at Acrisure Stadium and includes a schedule for ribs?\", \"Kickoff and Rib Festival\"),\n",
    "    (\"Which bridge should drivers use as an alternate route to avoid congestion at I-279 Northbound Exit 1B on event days?\", \"West End Bridge\"),\n",
    "    (\"Which two sports teams play home games at Acrisure Stadium?\", \"Pittsburgh Steelers and Pitt Panthers\"),\n",
    "    (\"What is the policy regarding parking pass delivery for the Champions Garage?\", \"Parking passes are mobile delivery only\")\n",
    "]\n",
    "# question_list = [('When was Carnegie Technical Schools founded?', '1900')]\n",
    "\n",
    "for question, ref_ans in question_list:\n",
    "    user_question = question\n",
    "    print(\"Question:\", user_question)\n",
    "    answer, sources = ask_question(user_question)\n",
    "    print(\"Generated Answer:\", answer)\n",
    "    print(\"Reference Answer:\", ref_ans)\n",
    "\n",
    "    for i, doc in enumerate(sources):\n",
    "        print(f\"[Source {i+1}] {doc.metadata.get('source', 'Unknown source')}\")\n",
    "    \n",
    "    print(\"\\n\\n\")\n",
    "\n",
    "# print(\"Question:\", user_question)\n",
    "# print(answer)\n",
    "# print(\"\\nSources used:\")\n",
    "# for i, doc in enumerate(sources):\n",
    "#     print(f\"[Source {i+1}] {doc.metadata.get('source', 'Unknown source')}\")\n"
   ]
  },
  {
   "cell_type": "code",
   "execution_count": null,
   "metadata": {},
   "outputs": [],
   "source": []
  }
 ],
 "metadata": {
  "kernelspec": {
   "display_name": "anlp-hw2",
   "language": "python",
   "name": "python3"
  },
  "language_info": {
   "codemirror_mode": {
    "name": "ipython",
    "version": 3
   },
   "file_extension": ".py",
   "mimetype": "text/x-python",
   "name": "python",
   "nbconvert_exporter": "python",
   "pygments_lexer": "ipython3",
   "version": "3.9.21"
  }
 },
 "nbformat": 4,
 "nbformat_minor": 2
}
