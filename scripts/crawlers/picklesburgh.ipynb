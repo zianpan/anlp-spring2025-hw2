{
 "cells": [
  {
   "cell_type": "markdown",
   "metadata": {},
   "source": [
    "# Picklesburgh"
   ]
  },
  {
   "cell_type": "code",
   "execution_count": null,
   "metadata": {},
   "outputs": [],
   "source": [
    "\n",
    "\n",
    "import requests\n",
    "from bs4 import BeautifulSoup\n",
    "from urllib.parse import urljoin, urlparse\n",
    "import torch\n",
    "from transformers import pipeline\n",
    "\n",
    "def crawl_webpage(url):\n",
    "    try:\n",
    "        response = requests.get(url, headers={\"User-Agent\": \"Mozilla/5.0 (Macintosh; Intel Mac OS X 10_15_7) AppleWebKit/537.36 (KHTML, like Gecko) Chrome/133.0.0.0 Safari/537.36\"})\n",
    "        response.raise_for_status()\n",
    "        \n",
    "        soup = BeautifulSoup(response.text, \"html.parser\")\n",
    "        page_text = soup.get_text(separator=\"\\n\", strip=True)\n",
    "        \n",
    "        links = set()\n",
    "        for link in soup.find_all(\"a\", href=True):\n",
    "            absolute_link = urljoin(url, link[\"href\"])\n",
    "            links.add(absolute_link)\n",
    "        \n",
    "        return page_text, links\n",
    "    except requests.exceptions.RequestException as e:\n",
    "        print(f\"Error fetching the webpage: {e}\")\n",
    "        return None, None\n",
    "\n",
    "def web_scraper(start_url, max_depth=2, output_file=\"scraped_content.txt\"):\n",
    "    visited = set()\n",
    "    device = torch.device(\"mps\" if torch.backends.mps.is_available() else \"cpu\")\n",
    "\n",
    "    queue = [(start_url, 0)]\n",
    "    domain = urlparse(start_url).netloc\n",
    "    \n",
    "    with open(output_file, \"w\", encoding=\"utf-8\") as f:\n",
    "        while queue:\n",
    "            print(len(queue))\n",
    "            url, depth = queue.pop(0)\n",
    "            if depth > max_depth or url in visited:\n",
    "                continue\n",
    "            \n",
    "            visited.add(url)\n",
    "            page_text, links = crawl_webpage(url)\n",
    "\n",
    "\n",
    "            # messages = [\n",
    "            #     {\"role\": \"user\", \"content\": page_text + \"\\n\\n\" + \"Can you help me extract valuable information from the given text? Please avoid using bullet points.\"},\n",
    "            # ]\n",
    "            # pipe = pipeline(\"text-generation\", model=\"meta-llama/Llama-3.2-1B-Instruct\",device= device)\n",
    "\n",
    "            # response = pipe(messages, max_new_tokens=300, do_sample=True, pad_token_id=128001)\n",
    "            \n",
    "            # extracted_info = response[0][\"generated_text\"][0]['content']\n",
    "            # print(extracted_info)\n",
    "            \n",
    "            if page_text:\n",
    "                f.write(url + \"\\n\" + \"-\" * 80 + \"\\n\")\n",
    "                f.write(page_text + \"\\n\\n\")\n",
    "            \n",
    "            if links:\n",
    "                for link in links:\n",
    "                    # do not include any pictures\n",
    "                    if urlparse(link).netloc == domain and link not in visited and not link.endswith(('.png', '.jpg', '.jpeg', '.gif', '.svg')):\n",
    "                        queue.append((link, depth + 1))\n",
    "    \n",
    "    return visited\n",
    "\n",
    "\n",
    "# Example usage"
   ]
  },
  {
   "cell_type": "code",
   "execution_count": null,
   "metadata": {},
   "outputs": [],
   "source": [
    "device = torch.device(\"mps\" if torch.backends.mps.is_available() else \"cpu\")\n",
    "start_url = \"https://www.picklesburgh.com/\"\n",
    "visited_links = web_scraper(start_url, max_depth=1)\n",
    "print(\"Visited URLs:\", visited_links)"
   ]
  },
  {
   "cell_type": "code",
   "execution_count": null,
   "metadata": {},
   "outputs": [
    {
     "name": "stderr",
     "output_type": "stream",
     "text": [
      "Device set to use mps\n",
      "Setting `pad_token_id` to `eos_token_id`:128001 for open-end generation.\n"
     ]
    }
   ],
   "source": [
    "# s = \"\"\"\n",
    "# Lisiecki Performs Mozart\n",
    "# Fri, Mar 7 - Sun, Mar 9, 2025\n",
    "# HEINZ HALL\n",
    "# Pittsburgh Symphony Orchestra\n",
    "# Classical Live Music\n",
    "\n",
    "# PSO Disrupt: Hope and Resistance\n",
    "# Sat, Mar 8, 2025\n",
    "# HEINZ HALL\n",
    "# Pittsburgh Symphony Orchestra\n",
    "# Classical Live Music\n",
    "\n",
    "# Lift Every Voice\n",
    "# Sat, Mar 15, 2025\n",
    "# HEINZ HALL\n",
    "# Pittsburgh Symphony Orchestra\n",
    "# Classical Live Music\n",
    "\n",
    "# Lang Lang with the PSO\n",
    "# Wed, Mar 19, 2025\n",
    "# HEINZ HALL\n",
    "# Pittsburgh Symphony Orchestra\n",
    "# Classical Concert\n",
    "\n",
    "# Kanneh-Mason Performs Shostakovich\n",
    "# Fri, Mar 21 - Sun, Mar 23, 2025\n",
    "# HEINZ HALL\n",
    "# Pittsburgh Symphony Orchestra\n",
    "# Classical Live Music\n",
    "\n",
    "# PSO360: Soul of the Cello\n",
    "# Sat, Mar 22, 2025\n",
    "# HEINZ HALL\n",
    "# Pittsburgh Symphony Orchestra\n",
    "# Classical Live Music\n",
    "\n",
    "# Speakers Series: Chris Wallace\n",
    "# Wed, Mar 26, 2025\n",
    "# HEINZ HALL\n",
    "# Pittsburgh Symphony Orchestra\n",
    "# Talks & Poetry\n",
    "\n",
    "# Beethoven’s Pastoral\n",
    "# Fri, Mar 28 - Sun, Mar 30, 2025\n",
    "# HEINZ HALL\n",
    "# Pittsburgh Symphony Orchestra\n",
    "# Classical Live Music\n",
    "\n",
    "# Student Side-by-Side\n",
    "# Wed, Apr 2, 2025\n",
    "# SEE EVENT DESCRIPTION\n",
    "# Pittsburgh Symphony Orchestra\n",
    "\n",
    "# Discovery & Drinks: Music & Cinema 2\n",
    "# Thu, Apr 3, 2025\n",
    "# SEE EVENT DESCRIPTION\n",
    "# Pittsburgh Symphony Orchestra\n",
    "\n",
    "# Total Eclipse of the Chart: Music of the 80s\n",
    "# Fri, Apr 4 - Sun, Apr 6, 2025\n",
    "# HEINZ HALL\n",
    "# Pittsburgh Symphony Orchestra\n",
    "# Live Music Concert\n",
    "\n",
    "# Fiddlesticks: Imagine That!\n",
    "# Sat, Apr 5, 2025\n",
    "# HEINZ HALL\n",
    "# Pittsburgh Symphony Orchestra\n",
    "# Live Music Concert Family\n",
    "# \"\"\"\n",
    "# messages = [\n",
    "#                 {\"role\": \"user\", \"content\": s + \"\\n\\n\" + \"Can you help me extract valuable information from the given text? Please avoid using bullet points.\"},\n",
    "#             ]\n",
    "# pipe = pipeline(\"text-generation\", model=\"meta-llama/Llama-3.2-1B-Instruct\",device = device)\n",
    "\n",
    "# response = pipe(messages, max_length=500, do_sample=True)"
   ]
  },
  {
   "cell_type": "code",
   "execution_count": null,
   "metadata": {},
   "outputs": [
    {
     "name": "stdout",
     "output_type": "stream",
     "text": [
      "\n",
      "Lisiecki Performs Mozart\n",
      "Fri, Mar 7 - Sun, Mar 9, 2025\n",
      "HEINZ HALL\n",
      "Pittsburgh Symphony Orchestra\n",
      "Classical Live Music\n",
      "\n",
      "PSO Disrupt: Hope and Resistance\n",
      "Sat, Mar 8, 2025\n",
      "HEINZ HALL\n",
      "Pittsburgh Symphony Orchestra\n",
      "Classical Live Music\n",
      "\n",
      "Lift Every Voice\n",
      "Sat, Mar 15, 2025\n",
      "HEINZ HALL\n",
      "Pittsburgh Symphony Orchestra\n",
      "Classical Live Music\n",
      "\n",
      "Lang Lang with the PSO\n",
      "Wed, Mar 19, 2025\n",
      "HEINZ HALL\n",
      "Pittsburgh Symphony Orchestra\n",
      "Classical Concert\n",
      "\n",
      "Kanneh-Mason Performs Shostakovich\n",
      "Fri, Mar 21 - Sun, Mar 23, 2025\n",
      "HEINZ HALL\n",
      "Pittsburgh Symphony Orchestra\n",
      "Classical Live Music\n",
      "\n",
      "PSO360: Soul of the Cello\n",
      "Sat, Mar 22, 2025\n",
      "HEINZ HALL\n",
      "Pittsburgh Symphony Orchestra\n",
      "Classical Live Music\n",
      "\n",
      "Speakers Series: Chris Wallace\n",
      "Wed, Mar 26, 2025\n",
      "HEINZ HALL\n",
      "Pittsburgh Symphony Orchestra\n",
      "Talks & Poetry\n",
      "\n",
      "Beethoven’s Pastoral\n",
      "Fri, Mar 28 - Sun, Mar 30, 2025\n",
      "HEINZ HALL\n",
      "Pittsburgh Symphony Orchestra\n",
      "Classical Live Music\n",
      "\n",
      "Student Side-by-Side\n",
      "Wed, Apr 2, 2025\n",
      "SEE EVENT DESCRIPTION\n",
      "Pittsburgh Symphony Orchestra\n",
      "\n",
      "Discovery & Drinks: Music & Cinema 2\n",
      "Thu, Apr 3, 2025\n",
      "SEE EVENT DESCRIPTION\n",
      "Pittsburgh Symphony Orchestra\n",
      "\n",
      "Total Eclipse of the Chart: Music of the 80s\n",
      "Fri, Apr 4 - Sun, Apr 6, 2025\n",
      "HEINZ HALL\n",
      "Pittsburgh Symphony Orchestra\n",
      "Live Music Concert\n",
      "\n",
      "Fiddlesticks: Imagine That!\n",
      "Sat, Apr 5, 2025\n",
      "HEINZ HALL\n",
      "Pittsburgh Symphony Orchestra\n",
      "Live Music Concert Family\n",
      "\n",
      "\n",
      "Can you help me extract valuable information from the given text? Please avoid using bullet points.\n"
     ]
    }
   ],
   "source": [
    "# print(response[0][\"generated_text\"][0]['content'])"
   ]
  },
  {
   "cell_type": "code",
   "execution_count": null,
   "metadata": {},
   "outputs": [],
   "source": []
  },
  {
   "cell_type": "code",
   "execution_count": null,
   "metadata": {},
   "outputs": [],
   "source": []
  },
  {
   "cell_type": "code",
   "execution_count": null,
   "metadata": {},
   "outputs": [],
   "source": [
    "start_url = \"https://www.picklesburgh.com/\"\n",
    "\n",
    "visited = set()\n",
    "\n",
    "\n",
    "links = get_all_urls(\"https://www.picklesburgh.com/\")\n",
    "\n",
    "def crawl_webpage(url):\n",
    "    try:\n",
    "        # Send a GET request to the URL\n",
    "        response = requests.get(url, headers={\"User-Agent\": \"Mozilla/5.0\"})\n",
    "        response.raise_for_status()  # Raise an error for bad responses (4xx, 5xx)\n",
    "\n",
    "        # Parse the HTML content\n",
    "        soup = BeautifulSoup(response.text, \"html.parser\")\n",
    "\n",
    "        # Extract all text from the page\n",
    "        page_text = soup.get_text(separator=\"\\n\", strip=True)\n",
    "\n",
    "        # Extract all hyperlinks\n",
    "        links = set()\n",
    "        for link in soup.find_all(\"a\", href=True):\n",
    "            absolute_link = urljoin(url, link[\"href\"])  # Convert relative links to absolute\n",
    "            links.add(absolute_link)\n",
    "\n",
    "        return page_text, links\n",
    "\n",
    "    except requests.exceptions.RequestException as e:\n",
    "        print(f\"Error fetching the webpage: {e}\")\n",
    "        return None, None"
   ]
  },
  {
   "cell_type": "code",
   "execution_count": 55,
   "metadata": {},
   "outputs": [
    {
     "data": {
      "text/plain": [
       "{'http://www.downtownpittsburgh.com',\n",
       " 'http://www.downtownpittsburgh.com/',\n",
       " 'http://www.picklesburgh.com/wp-content/uploads/2015/05/PDP-logo-trans.png',\n",
       " 'http://www.picklesburgh.com/wp-content/uploads/2024/08/Champions2024-graphic-updated.png',\n",
       " 'https://twitter.com/DowntownPitt',\n",
       " 'https://www.facebook.com/DowntownPitt',\n",
       " 'https://www.instagram.com/downtownpitt/',\n",
       " 'https://www.linkedin.com/company/pittsburgh-downtown-partnership/',\n",
       " 'https://www.picklesburgh.com',\n",
       " 'https://www.picklesburgh.com/',\n",
       " 'https://www.picklesburgh.com/accessibility/',\n",
       " 'https://www.picklesburgh.com/contact/',\n",
       " 'https://www.picklesburgh.com/entertainment/',\n",
       " 'https://www.picklesburgh.com/festival-schedule/',\n",
       " 'https://www.picklesburgh.com/festival-schedule/lil-gherkins-activity-area/',\n",
       " 'https://www.picklesburgh.com/games/',\n",
       " 'https://www.picklesburgh.com/get-involved/',\n",
       " 'https://www.picklesburgh.com/news/',\n",
       " 'https://www.picklesburgh.com/photo-gallery/',\n",
       " 'https://www.picklesburgh.com/taste-of-picklesburgh/',\n",
       " 'https://www.picklesburgh.com/vendors/',\n",
       " 'https://www.picklesburgh.com/visit/',\n",
       " 'https://www.picklesburgh.com/visit/festival-map/',\n",
       " 'https://www.picklesburgh.com/visit/getting-here/',\n",
       " 'https://www.picklesburgh.com/wp-content/uploads/2024/07/FridayLayers-1.jpg',\n",
       " 'https://www.picklesburgh.com/wp-content/uploads/2024/07/SaturdayLayers-1.jpg',\n",
       " 'https://www.picklesburgh.com/wp-content/uploads/2024/07/SaturdayLayers.jpg',\n",
       " 'https://www.picklesburgh.com/wp-content/uploads/2024/07/THursdayLayers.jpg'}"
      ]
     },
     "execution_count": 55,
     "metadata": {},
     "output_type": "execute_result"
    }
   ],
   "source": [
    "links"
   ]
  },
  {
   "cell_type": "code",
   "execution_count": null,
   "metadata": {},
   "outputs": [],
   "source": []
  },
  {
   "cell_type": "code",
   "execution_count": 49,
   "metadata": {},
   "outputs": [
    {
     "name": "stdout",
     "output_type": "stream",
     "text": [
      "here\n"
     ]
    }
   ],
   "source": [
    "from selenium import webdriver\n",
    "from selenium.webdriver.chrome.service import Service\n",
    "from selenium.webdriver.common.by import By\n",
    "from selenium.webdriver.chrome.options import Options\n",
    "import pandas as pd\n",
    "import time\n",
    "from webdriver_manager.chrome import ChromeDriverManager\n",
    "from selenium.webdriver.support.ui import WebDriverWait\n",
    "from selenium.webdriver.support import expected_conditions as EC\n",
    "from tqdm import tqdm\n",
    "\n",
    "# # Set up the WebDriver\n",
    "# # driver_path = \"/path/to/chromedriver\"  # Replace with the correct path\n",
    "\n",
    "\n",
    "# def scrape_table(url):\n",
    "#     # Set up Selenium with headless Chrome\n",
    "#     options = Options()\n",
    "#     options.add_argument(\"--headless\")  # Run in the background\n",
    "#     options.add_argument(\"--no-sandbox\")\n",
    "#     options.add_argument(\"--disable-dev-shm-usage\")\n",
    "\n",
    "#     service = Service(ChromeDriverManager().install())\n",
    "#     driver = webdriver.Chrome(service=service)\n",
    "\n",
    "#     try:\n",
    "#         # Load the webpage\n",
    "#         driver.get(url)\n",
    "#         # time.sleep(5)  # Allow time for JavaScript to render the table\n",
    "\n",
    "#         # Locate the table\n",
    "#         wait = WebDriverWait(driver, 10)  # Increase timeout if needed\n",
    "#         table = wait.until(EC.presence_of_element_located((By.CLASS_NAME, \"igc-table-container\")))\n",
    "\n",
    "#         # table = driver.find_element(By.CLASS_NAME, \"igc-table-outer\")\n",
    "\n",
    "#         # Extract rows\n",
    "#         rows = table.find_elements(By.TAG_NAME, \"tr\")\n",
    "        \n",
    "#         data = []\n",
    "#         for row in rows:\n",
    "#             cells = row.find_elements(By.TAG_NAME, \"td\")\n",
    "#             row_data = [cell.text.strip() for cell in cells]\n",
    "#             if row_data:\n",
    "#                 data.append(row_data)\n",
    "\n",
    "#         # Convert to DataFrame\n",
    "#         df = pd.DataFrame(data, columns=[\"Vendor\", \"Description\", \"Location\"])\n",
    "#         driver.quit()\n",
    "        \n",
    "#         return df\n",
    "\n",
    "#     except Exception as e:\n",
    "#         print(f\"Error: {e}\")\n",
    "#         driver.quit()\n",
    "#         return None\n",
    "\n",
    "# # Example usage\n",
    "# url = \"https://www.picklesburgh.com/vendors/\"\n",
    "# table_data = scrape_table(url)\n",
    "\n",
    "# # Display the extracted data\n",
    "# # import ace_tools as tools\n",
    "# # tools.display_dataframe_to_user(name=\"Vendor Data\", dataframe=table_data)\n",
    "\n",
    "from selenium import webdriver\n",
    "from selenium.webdriver.chrome.service import Service\n",
    "from selenium.webdriver.common.by import By\n",
    "from selenium.webdriver.chrome.options import Options\n",
    "from selenium.webdriver.support.ui import WebDriverWait\n",
    "from selenium.webdriver.support import expected_conditions as EC\n",
    "import pandas as pd\n",
    "\n",
    "def scrape_table(url):\n",
    "    # Set up Selenium with headless Chrome\n",
    "    options = Options()\n",
    "    options.add_argument(\"--headless\")  # Run in the background\n",
    "    options.add_argument(\"--no-sandbox\")\n",
    "    options.add_argument(\"--disable-dev-shm-usage\")\n",
    "\n",
    "    service = Service(ChromeDriverManager().install())\n",
    "    driver = webdriver.Chrome(service=service)\n",
    "\n",
    "    try:\n",
    "        # Load the webpage\n",
    "        driver.get(url)\n",
    "\n",
    "        # Wait until the iframe is present\n",
    "        wait = WebDriverWait(driver, 10)\n",
    "        # iframe = wait.until(EC.presence_of_element_located((By.TAG_NAME, \"iframe\")))\n",
    "        # # print('here')\n",
    "\n",
    "        # # Switch to the iframe\n",
    "        # driver.switch_to.frame(iframe)\n",
    "\n",
    "        # Wait until the table inside the iframe loads\n",
    "        table = wait.until(EC.presence_of_element_located((By.CLASS_NAME, \"igc-table-container\")))\n",
    "        print('here')\n",
    "\n",
    "        # Extract rows\n",
    "        rows = table.find_elements(By.TAG_NAME, \"tr\")\n",
    "\n",
    "        data = []\n",
    "        for row in rows:\n",
    "            cells = row.find_elements(By.TAG_NAME, \"td\")\n",
    "            row_data = [cell.text.strip() for cell in cells]\n",
    "            if row_data:\n",
    "                data.append(row_data)\n",
    "\n",
    "        # Convert to DataFrame\n",
    "        df = pd.DataFrame(data, columns=[\"Vendor\", \"Description\", \"Location\"])\n",
    "\n",
    "        # Switch back to the main page\n",
    "        driver.switch_to.default_content()\n",
    "\n",
    "        driver.quit()\n",
    "        return df\n",
    "\n",
    "    except Exception as e:\n",
    "        print(f\"Error: {e}\")\n",
    "        driver.quit()\n",
    "        return None\n",
    "\n",
    "# Example usage\n",
    "# url = \"https://www.picklesburgh.com/vendors/\"\n",
    "url  = 'https://e.infogram.com/_/q3HBpUjm51vSE5TsEusD?parent_url=https%3A%2F%2Fwww.picklesburgh.com%2Fvendors%2F&src=embed#async_embed'\n",
    "table_data = scrape_table(url)\n",
    "\n",
    "# # Display extracted data\n",
    "# import ace_tools as tools\n",
    "# tools.display_dataframe_to_user(name=\"Vendor Data\", dataframe=table_data)\n"
   ]
  },
  {
   "cell_type": "code",
   "execution_count": 50,
   "metadata": {},
   "outputs": [],
   "source": [
    "# save the data\n",
    "table_data.to_csv(\"../data/picklesburgh/picklesburgh_vendors.csv\", index=False)"
   ]
  },
  {
   "cell_type": "code",
   "execution_count": 51,
   "metadata": {},
   "outputs": [
    {
     "data": {
      "application/vnd.microsoft.datawrangler.viewer.v0+json": {
       "columns": [
        {
         "name": "index",
         "rawType": "int64",
         "type": "integer"
        },
        {
         "name": "Vendor",
         "rawType": "object",
         "type": "string"
        },
        {
         "name": "Description",
         "rawType": "object",
         "type": "string"
        },
        {
         "name": "Location",
         "rawType": "object",
         "type": "string"
        }
       ],
       "conversionMethod": "pd.DataFrame",
       "ref": "86a6dca5-98e1-4473-9009-275b4131833b",
       "rows": [
        [
         "0",
         "After Dark Illustrations",
         "Spooky pickle jar stickers that glow in the dark and a Picklesburgh balloon print are among the hand-drawn Pittsburgh-themed illustrations come to life on prints, pins, coasters, and puzzles .",
         "Market Square"
        ],
        [
         "1",
         "Amanda Lee Glassware",
         "Shop local and handpainted glassware for all occassions! The classic Steel City collection will be customized with a pickle above the skyline!",
         "Market Square"
        ],
        [
         "2",
         "Armen's Barrels",
         "Florena Dill Vodka and Pickle Vodka are among the offerings from this award winning distillery that will be also be offering a Cucumber Dill Chilller during Happy Hour",
         "Block 3"
        ],
        [
         "3",
         "Bridge City Brinery",
         "If you loved their pickle tots, then you'll be hooked on their new pickle cheesesteak! Wash it down during Happy Hour with their John Dilly Pickle Palmer or their peach pickle palmer lemonade made with peach whiskey.",
         "Block 2"
        ],
        [
         "4",
         "Bumbleberry Farms",
         "Sweet and sour come together for their Picklesburgh signature offerings: two mini pickle flavors, both made with real honey. Try the Sweet + Sassy pickles for a spicy kick! Plus specialty honeys and award-winning honey cream spreads.",
         "Block 1"
        ],
        [
         "5",
         "Burgatory",
         "Indulge in the Burgatory's mouth-watering smash burger made with a triple pickle sauce and pickled relish, and pair it with pickle-dusted house-fried potato chips. Beat the heat with a pickled strawberry milkshake or the pickled strawberry and cherry shrub cocktails!",
         "Block 1"
        ],
        [
         "6",
         "Bylers Relish House",
         "A plethera of pickled options straight from the farm made with the freshest vegetables in small batches using time-tested traditional recipes.",
         "Block 2"
        ],
        [
         "7",
         "Chocolate Moonshine Co.",
         "More than 30 flavors of gourmet fudge, including--you guessed it--pickle! Indulge in over 8 different pickle fudge flavors, plus chocolate-covered pickle spears and pickles on a stick, all made with world-famous Belgian chocolate.",
         "Block 2"
        ],
        [
         "8",
         "Chris Dieghan Art",
         "Prepare to be captivated by stunningly detailed drawings reflecting the intricate art of pickling, as well as Pittsburgh's iconic steel industry and sports history",
         "Market Square"
        ],
        [
         "9",
         "Cinnaroast",
         "You'll go nuts choosing between pickled peanuts, or the sweet taste of cinnamon-roasted almonds, pecans, and cashews.",
         "PPG Plaza"
        ],
        [
         "10",
         "Cinnaroast & Pickle Pirate",
         "You'll go nuts choosing between pickled peanuts, or the sweet taste of cinnamon-roasted almonds, pecans, and cashews. Get a kick out of their crowd-favorite Kool-Aid pickles!",
         "Block 1"
        ],
        [
         "11",
         "Confleurtti",
         "Elevate your Picklesburgh 'fit with a Pickle and condiment crowns from Confleurtti, a Pittsburgh-based floral mercantile. Plus find pickle-themed handmade jewelry, and adorable stickers.",
         "Market Square"
        ],
        [
         "12",
         "Copper Coast Confections",
         "Creative sweets from Pittsburgh's premiere artisan fudge company including chocolate covered pickle caramels, spicy pickle fudge, pickle fudgesicles, and even Belgian chocolate pickle popper truffles!",
         "Block 1; Market Square"
        ],
        [
         "13",
         "Country Hammer Moonshine",
         "No prohibition here with jars of locally made moonshines including tangy dill pickle moonshine. Sip a boozy pickle margarita or dill pickle Bloody Mary during festival happy hours.",
         "Block 1"
        ],
        [
         "14",
         "Crooked Creek Distillery",
         "Local craft distillery offering limited release pickle themed spirits including Dill Moonshine Infusion and Cucumber Lemon Dill Vodka as well as pickled and non-pickled cocktails.",
         "Block 2"
        ],
        [
         "15",
         "Cute as a Dumpling",
         "A collection of handcrafted pickle, pierogi, and ketchup designs on pins, hair ties, ornaments, and exclusive small bags.",
         "Block 1"
        ],
        [
         "16",
         "DiAnoia's Eatery",
         "Pickle riffs on menu items from one of Pittsburgh's most respected restaurants. Enjoy pickled pepperoni rolls, meatballs, and cannolis, or cool off with a pickled aperol spritz, negroni, or limencello spritz during happy hours!",
         "Block 3"
        ],
        [
         "17",
         "Dina colada",
         "Come quench your thirst at this popular drink stand with pickle lemonade, slushies, virgin pickle margaritas and more tasty beverages.",
         "PPG Plaza"
        ],
        [
         "18",
         "Doc Pickle",
         "Third generation family owned pickle company serving sour pickles, olives, pickled peppers and veggies!",
         "Block 1"
        ],
        [
         "19",
         "Ekernally Yours Gourmet Popcorn & Sweet Treats",
         "This local favorite brings you a full menu of dill pickled, hot pickled, or bread & butter kettle corn as well as fresh-squeezed pickle-ade and pickled Hawaiian ice.",
         "PPG Plaza"
        ],
        [
         "20",
         "Excise Distillery",
         "This craft distillery offers a variety of pickle vodka, adult pickle slushies, and pickle cocktails during happy hours.",
         "PPG Plaza"
        ],
        [
         "21",
         "fl.2 Fairmont",
         "Discover the irresistible short rib poutine: pickle fries, pearl onions, short rib, and a decadent veal jus. Pair it with the tantalizing fried pickles with zesty pickled chipotle aioli, or wash it down with a pickled mojito cocktail.",
         "Block 3"
        ],
        [
         "22",
         "Gone Glacier",
         "Experience the satisfying crunch of freeze-dried pickles and an assortment of jellies and snacks.",
         "Block 2"
        ],
        [
         "23",
         "Gosia's Pierogies",
         "Peter Piper picked a peck of pickle and potato pierogies! Try a pickle twist on these old-world favorites or dig into authentic traditional flavors.",
         "Block 1"
        ],
        [
         "24",
         "Grandpa Joe's Candy Shop",
         "Kids of all ages will love pickle cotton candy, pickle saltwater taffy, pickle craft soda, pickle flavored gummies and Kool Aid-soaked pickle spears!",
         "Block 2"
        ],
        [
         "25",
         "Hawaiian Honey Cones",
         "Heat have you beat? Cool down with a Hawaiian Honey Cone with freeze dried pickle topping or Hawaiian Pickled Pineapple ice cream!",
         "Village Park"
        ],
        [
         "26",
         "Heinz History Center",
         "This beloved Pittsburgh museum will carry countless official Heinz pickle and ketchup themed products!",
         "Wood St."
        ],
        [
         "27",
         "Hyeholde Restaurant",
         "Indulge in a BBQ pulled pork or BBQ beef sandwich, and pair it with bread & butter pickle potato salad! Elevate your experience with a refreshing cocktail: Smoke on the Watermelon is made with Mezcal and Pickled Watermelon, and the Peach Treaty is made with Gin and Pickled Peach Puree!",
         "PPG Plaza"
        ],
        [
         "28",
         "Iron Born Pizza",
         "Serving up irresistable Pickle Pie Slices and house fried chips paired with tangy Pickle Dip. Satisfy your cravings with their mouthwatering Pepperoni Pizza Slices, perfect for any pizza lover.",
         "PPG Plaza"
        ],
        [
         "29",
         "Jackiedrazart",
         "Crocheted stuffed friends for all ages! Take home an emotional support pickle, pierogi companion, or a dippy egg buddy. Check out the shop on social media @jackiedrazart!",
         "Block 1"
        ],
        [
         "30",
         "Jenny Lee",
         "The Baker Family is coming to Picklesburgh, and they're bringing their fan-favorite sweet and savory swirl breads. Savor a bite of their exclusive Gherkin Grilled Cheese sandwich: two buttered-up slices of their famous Garlic & Herb savory bread with Swiss cheese and pickles from Eerie-based Flippin’ Pickles.",
         "Block 1; Market Square"
        ],
        [
         "31",
         "Jersey Pickle",
         "Enjoy a variety of Pickles, Olives and Pickled Vegatables from Jersey Pickle!",
         "Block 2"
        ],
        [
         "32",
         "Junction Pizza",
         "Pickle pizza and cheesy pickle breadsticks made fresh on site!",
         "Block 2"
        ],
        [
         "33",
         "Koreyinz",
         "Enjoy a refreshing Pickle Boba Drink with Pickle-flavord boba!",
         ""
        ],
        [
         "34",
         "Lake Erie Variety",
         "Shop laser-engraved, intricate, pickle-themed home decor, including coasters, maps, charcuterie & cutting boards, ornaments, wood decor signs, engraved tumblers, and magnets.",
         ""
        ],
        [
         "35",
         "Le's Oriental",
         "Pickle twists on Asian favorites including the highly addictive pickle stuffed eggrolls, and kim-chi, and chicken on a stick!",
         "Block 2"
        ],
        [
         "36",
         "Le's Oriental Lemonade",
         "",
         "Village Park"
        ],
        [
         "37",
         "Peace, Love & Pickles",
         "Original handmade pickle-themed tote bags, pickle key chains, pickle jewelry, pickle Stanleys, pickle scrunchies, and more!",
         "Block 1"
        ],
        [
         "38",
         "Linda Barnicott Art & Gifts",
         "All things pickled and Pittsburgh! Shop for themed prints, mugs, bookmarks, ornaments, note cards and gifts!",
         "Block 1"
        ],
        [
         "39",
         "Little Athens",
         "Dig into fan favorites like the classic gyro with a special pickle tzatziki or indulge in their new potato chip and dill chocolate confections!",
         "Market Square"
        ],
        [
         "40",
         "Local Provisions",
         "Handheld delights including a kimchi hot dog, fried pickles with Heinz ranch dressing, Weiss Meats deli pickles, and creative cocktails during happy hours including Tickle My Pickle and refreshing Pickle-rita.",
         "Block 3"
        ],
        [
         "41",
         "Mancini's",
         "Local bakery featuring their brand new Pepperoni Roll! The PGH Roll with pickle chips and chipped ham will return to Picklesburgh with an upgrade: The PGH Roll 2.0 features Silver Star cheesy Bratwurst and pickled cabbage, all wrapped in an Iron City Beer roll.",
         "PPG Plaza"
        ],
        [
         "42",
         "McLaughlin Distillery",
         "Explore the bold flavors of McLaughlin Distillery, offering a enticing lineup including Pickle Moonshine, Jalapeno Moonshine, Bourbon, Whiskey, Vodka, and Limoncello.",
         "Block 2"
        ],
        [
         "43",
         "Meat & Potatoes",
         "Indulge in savory smoked brisket and chicken sandwiches, adorned with tangy pickled BBQ sauce. Elevate your experience with a customizable Giardiniera Bar, complemented by special offerings like a Jim Beam Peach Highball with pickled peach and refreshing Agua Frescas featuring pickled watermelon and cucumber.",
         "Block 3"
        ],
        [
         "44",
         "Millie's Homemade Ice Cream",
         "A Pittsburgh success story ice-cream spot returns to Picklesburgh with Pickle Gelato, Pickled Fruit Ice Cream, and other classic favorites.",
         "PPG Plaza"
        ],
        [
         "45",
         "Over Eden",
         "Culinary innovation meets pickled perfection! Enjoy a variety of flavors from Pickle Hummus with house-made pickles and crudité, Pickled Jalapeno Poppers with cream cheese and bacon, Pickle Focaccia with fermented dough and bacon jam, and Pickle Birria Tacos with short rib and pickled onions!",
         "Block 2"
        ],
        [
         "46",
         "Patti's Pastries",
         "Indulge in tasty delights like the crowd-favorite \"DILLY DILLY DILLICIOUS,\" blending vanilla cake with dill pickles, or the \"Death By Chocolate\" with Double Chocolate Stout and sauerkraut. They also have gluten-friendly options!",
         "Wood St."
        ],
        [
         "47",
         "Pickle Me Pete",
         "Pickles straight from the Big Apple serving up their Famous Fried Pickles on a Stickle and a sampler pickle flight.",
         "Block 3"
        ],
        [
         "48",
         "Pittsburgh Mobile Bars",
         "Choose from mocktails or happy hour cocktails that pair perfectly with anything pickled, including strawberry basil, dill lemonade, raspberry shrub, or a jalepeno limeade.",
         "Block 1"
        ],
        [
         "49",
         "Pittsburgh Pickle Co.",
         "A hometown success-story, this family-owned business is dedicated to crafting the finest pickles, and even has a patent for their one-of-a-kind Crow Cut pickle slice. Pucker up for their wide range of flavors.",
         "Block 2"
        ]
       ],
       "shape": {
        "columns": 3,
        "rows": 69
       }
      },
      "text/html": [
       "<div>\n",
       "<style scoped>\n",
       "    .dataframe tbody tr th:only-of-type {\n",
       "        vertical-align: middle;\n",
       "    }\n",
       "\n",
       "    .dataframe tbody tr th {\n",
       "        vertical-align: top;\n",
       "    }\n",
       "\n",
       "    .dataframe thead th {\n",
       "        text-align: right;\n",
       "    }\n",
       "</style>\n",
       "<table border=\"1\" class=\"dataframe\">\n",
       "  <thead>\n",
       "    <tr style=\"text-align: right;\">\n",
       "      <th></th>\n",
       "      <th>Vendor</th>\n",
       "      <th>Description</th>\n",
       "      <th>Location</th>\n",
       "    </tr>\n",
       "  </thead>\n",
       "  <tbody>\n",
       "    <tr>\n",
       "      <th>0</th>\n",
       "      <td>After Dark Illustrations</td>\n",
       "      <td>Spooky pickle jar stickers that glow in the da...</td>\n",
       "      <td>Market Square</td>\n",
       "    </tr>\n",
       "    <tr>\n",
       "      <th>1</th>\n",
       "      <td>Amanda Lee Glassware</td>\n",
       "      <td>Shop local and handpainted glassware for all o...</td>\n",
       "      <td>Market Square</td>\n",
       "    </tr>\n",
       "    <tr>\n",
       "      <th>2</th>\n",
       "      <td>Armen's Barrels</td>\n",
       "      <td>Florena Dill Vodka and Pickle Vodka are among ...</td>\n",
       "      <td>Block 3</td>\n",
       "    </tr>\n",
       "    <tr>\n",
       "      <th>3</th>\n",
       "      <td>Bridge City Brinery</td>\n",
       "      <td>If you loved their pickle tots, then you'll be...</td>\n",
       "      <td>Block 2</td>\n",
       "    </tr>\n",
       "    <tr>\n",
       "      <th>4</th>\n",
       "      <td>Bumbleberry Farms</td>\n",
       "      <td>Sweet and sour come together for their Pickles...</td>\n",
       "      <td>Block 1</td>\n",
       "    </tr>\n",
       "    <tr>\n",
       "      <th>...</th>\n",
       "      <td>...</td>\n",
       "      <td>...</td>\n",
       "      <td>...</td>\n",
       "    </tr>\n",
       "    <tr>\n",
       "      <th>64</th>\n",
       "      <td>Two Acre Farm and The Brinery</td>\n",
       "      <td>Try an array of specialty pickles including fl...</td>\n",
       "      <td>PPG Plaza</td>\n",
       "    </tr>\n",
       "    <tr>\n",
       "      <th>65</th>\n",
       "      <td>Wigle Whiskey</td>\n",
       "      <td>Picklesburgh inspired Eau de Pickle and City o...</td>\n",
       "      <td>PPG Plaza</td>\n",
       "    </tr>\n",
       "    <tr>\n",
       "      <th>66</th>\n",
       "      <td>Wild Bills Craft Beverage Co.</td>\n",
       "      <td>High-quality sodas on tap, flavors like birch ...</td>\n",
       "      <td>Wood St.</td>\n",
       "    </tr>\n",
       "    <tr>\n",
       "      <th>67</th>\n",
       "      <td>YinzLidz</td>\n",
       "      <td>Pickle-themed koozies, hats, cutting boards, t...</td>\n",
       "      <td>Block 1</td>\n",
       "    </tr>\n",
       "    <tr>\n",
       "      <th>68</th>\n",
       "      <td>Yuzu Kitchen</td>\n",
       "      <td>Asian fare with a pickled twist from a Downtow...</td>\n",
       "      <td>Block 1</td>\n",
       "    </tr>\n",
       "  </tbody>\n",
       "</table>\n",
       "<p>69 rows × 3 columns</p>\n",
       "</div>"
      ],
      "text/plain": [
       "                           Vendor  \\\n",
       "0        After Dark Illustrations   \n",
       "1            Amanda Lee Glassware   \n",
       "2                 Armen's Barrels   \n",
       "3             Bridge City Brinery   \n",
       "4               Bumbleberry Farms   \n",
       "..                            ...   \n",
       "64  Two Acre Farm and The Brinery   \n",
       "65                  Wigle Whiskey   \n",
       "66  Wild Bills Craft Beverage Co.   \n",
       "67                       YinzLidz   \n",
       "68                   Yuzu Kitchen   \n",
       "\n",
       "                                          Description       Location  \n",
       "0   Spooky pickle jar stickers that glow in the da...  Market Square  \n",
       "1   Shop local and handpainted glassware for all o...  Market Square  \n",
       "2   Florena Dill Vodka and Pickle Vodka are among ...        Block 3  \n",
       "3   If you loved their pickle tots, then you'll be...        Block 2  \n",
       "4   Sweet and sour come together for their Pickles...        Block 1  \n",
       "..                                                ...            ...  \n",
       "64  Try an array of specialty pickles including fl...      PPG Plaza  \n",
       "65  Picklesburgh inspired Eau de Pickle and City o...      PPG Plaza  \n",
       "66  High-quality sodas on tap, flavors like birch ...       Wood St.  \n",
       "67  Pickle-themed koozies, hats, cutting boards, t...        Block 1  \n",
       "68  Asian fare with a pickled twist from a Downtow...        Block 1  \n",
       "\n",
       "[69 rows x 3 columns]"
      ]
     },
     "execution_count": 51,
     "metadata": {},
     "output_type": "execute_result"
    }
   ],
   "source": [
    "table_data"
   ]
  },
  {
   "cell_type": "code",
   "execution_count": 26,
   "metadata": {},
   "outputs": [],
   "source": [
    "table_data"
   ]
  },
  {
   "cell_type": "code",
   "execution_count": 22,
   "metadata": {},
   "outputs": [],
   "source": [
    "page_text, links = crawl_webpage('https://www.picklesburgh.com/vendors/')"
   ]
  },
  {
   "cell_type": "code",
   "execution_count": 23,
   "metadata": {},
   "outputs": [],
   "source": [
    "with open(\"picklesburgh.txt\", \"w\") as file:\n",
    "    file.write(page_text)"
   ]
  },
  {
   "cell_type": "code",
   "execution_count": 34,
   "metadata": {},
   "outputs": [
    {
     "name": "stdout",
     "output_type": "stream",
     "text": [
      "Found 2 iframes.\n",
      "Iframe 0: https://e.infogram.com/_/q3HBpUjm51vSE5TsEusD?parent_url=https%3A%2F%2Fwww.picklesburgh.com%2Fvendors%2F&src=embed#async_embed\n",
      "Iframe 1: about:blank\n"
     ]
    }
   ],
   "source": [
    "from selenium import webdriver\n",
    "from selenium.webdriver.chrome.service import Service\n",
    "from selenium.webdriver.common.by import By\n",
    "from selenium.webdriver.chrome.options import Options\n",
    "from selenium.webdriver.support.ui import WebDriverWait\n",
    "from selenium.webdriver.support import expected_conditions as EC\n",
    "\n",
    "def debug_iframes(url):\n",
    "    options = Options()\n",
    "    options.add_argument(\"--headless\")\n",
    "    options.add_argument(\"--no-sandbox\")\n",
    "    options.add_argument(\"--disable-dev-shm-usage\")\n",
    "\n",
    "    service = Service(ChromeDriverManager().install())\n",
    "    driver = webdriver.Chrome(service=service)\n",
    "\n",
    "    try:\n",
    "        driver.get(url)\n",
    "        WebDriverWait(driver, 10).until(EC.presence_of_all_elements_located((By.TAG_NAME, \"iframe\")))\n",
    "\n",
    "        # Print all available iframes\n",
    "        iframes = driver.find_elements(By.TAG_NAME, \"iframe\")\n",
    "        print(f\"Found {len(iframes)} iframes.\")\n",
    "\n",
    "        for index, iframe in enumerate(iframes):\n",
    "            print(f\"Iframe {index}: {iframe.get_attribute('src')}\")\n",
    "\n",
    "        driver.quit()\n",
    "    except Exception as e:\n",
    "        print(f\"Error: {e}\")\n",
    "        driver.quit()\n",
    "\n",
    "# Example usage\n",
    "url = \"https://www.picklesburgh.com/vendors/\"\n",
    "debug_iframes(url)\n"
   ]
  },
  {
   "cell_type": "code",
   "execution_count": 38,
   "metadata": {},
   "outputs": [
    {
     "name": "stdout",
     "output_type": "stream",
     "text": [
      "Error: Message: \n",
      "Stacktrace:\n",
      "0   chromedriver                        0x00000001027902d4 cxxbridge1$str$ptr + 2739836\n",
      "1   chromedriver                        0x0000000102788934 cxxbridge1$str$ptr + 2708700\n",
      "2   chromedriver                        0x00000001022e9f90 cxxbridge1$string$len + 93360\n",
      "3   chromedriver                        0x0000000102330de4 cxxbridge1$string$len + 383748\n",
      "4   chromedriver                        0x0000000102371e80 cxxbridge1$string$len + 650144\n",
      "5   chromedriver                        0x0000000102325060 cxxbridge1$string$len + 335232\n",
      "6   chromedriver                        0x0000000102758c38 cxxbridge1$str$ptr + 2512864\n",
      "7   chromedriver                        0x000000010275bf58 cxxbridge1$str$ptr + 2525952\n",
      "8   chromedriver                        0x000000010273e578 cxxbridge1$str$ptr + 2404640\n",
      "9   chromedriver                        0x000000010275c818 cxxbridge1$str$ptr + 2528192\n",
      "10  chromedriver                        0x000000010272ef2c cxxbridge1$str$ptr + 2341588\n",
      "11  chromedriver                        0x0000000102778a60 cxxbridge1$str$ptr + 2643464\n",
      "12  chromedriver                        0x0000000102778be8 cxxbridge1$str$ptr + 2643856\n",
      "13  chromedriver                        0x00000001027885a8 cxxbridge1$str$ptr + 2707792\n",
      "14  libsystem_pthread.dylib             0x0000000180c232e4 _pthread_start + 136\n",
      "15  libsystem_pthread.dylib             0x0000000180c1e0fc thread_start + 8\n",
      "\n"
     ]
    }
   ],
   "source": [
    "def scrape_table(url):\n",
    "    options = Options()\n",
    "    options.add_argument(\"--headless\")\n",
    "    options.add_argument(\"--no-sandbox\")\n",
    "    options.add_argument(\"--disable-dev-shm-usage\")\n",
    "\n",
    "    service = Service(ChromeDriverManager().install())\n",
    "    driver = webdriver.Chrome(service=service)\n",
    "\n",
    "    try:\n",
    "        driver.get(url)\n",
    "        wait = WebDriverWait(driver, 10)\n",
    "\n",
    "        # Wait for iframe and switch\n",
    "        wait.until(EC.presence_of_all_elements_located((By.TAG_NAME, \"iframe\")))\n",
    "        iframes = driver.find_elements(By.TAG_NAME, \"iframe\")\n",
    "\n",
    "        if len(iframes) > 0:\n",
    "            driver.switch_to.frame(iframes[0])  # Change index if needed\n",
    "\n",
    "            # Wait for table inside iframe\n",
    "            table = wait.until(EC.presence_of_element_located((By.CLASS_NAME, \"igc-table-container\")))\n",
    "\n",
    "            # Extract rows\n",
    "            rows = table.find_elements(By.TAG_NAME, \"tr\")\n",
    "            data = [[cell.text.strip() for cell in row.find_elements(By.TAG_NAME, \"td\")] for row in rows if row.text]\n",
    "\n",
    "            # Convert to DataFrame\n",
    "            import pandas as pd\n",
    "            df = pd.DataFrame(data, columns=[\"Vendor\", \"Description\", \"Location\"])\n",
    "\n",
    "            driver.switch_to.default_content()  # Return to main page\n",
    "            driver.quit()\n",
    "            return df\n",
    "        else:\n",
    "            print(\"No iframe found.\")\n",
    "            driver.quit()\n",
    "            return None\n",
    "\n",
    "    except Exception as e:\n",
    "        print(f\"Error: {e}\")\n",
    "        driver.quit()\n",
    "        return None\n",
    "\n",
    "# Run the function\n",
    "url = \"https://www.picklesburgh.com/vendors/\"\n",
    "# debug_iframes(url)\n",
    "table_data = scrape_table(url)\n",
    "\n",
    "# # Display extracted data\n",
    "# import ace_tools as tools\n",
    "# tools.display_dataframe_to_user(name=\"Vendor Data\", dataframe=table_data)\n"
   ]
  },
  {
   "cell_type": "code",
   "execution_count": null,
   "metadata": {},
   "outputs": [],
   "source": []
  }
 ],
 "metadata": {
  "kernelspec": {
   "display_name": "anlp-hw2",
   "language": "python",
   "name": "python3"
  },
  "language_info": {
   "codemirror_mode": {
    "name": "ipython",
    "version": 3
   },
   "file_extension": ".py",
   "mimetype": "text/x-python",
   "name": "python",
   "nbconvert_exporter": "python",
   "pygments_lexer": "ipython3",
   "version": "3.9.21"
  }
 },
 "nbformat": 4,
 "nbformat_minor": 2
}
