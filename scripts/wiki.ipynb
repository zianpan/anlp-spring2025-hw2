{
 "cells": [
  {
   "cell_type": "markdown",
   "metadata": {},
   "source": [
    "# WIKI scraper"
   ]
  },
  {
   "cell_type": "code",
   "execution_count": 2,
   "metadata": {},
   "outputs": [
    {
     "name": "stdout",
     "output_type": "stream",
     "text": [
      "1\n"
     ]
    },
    {
     "name": "stderr",
     "output_type": "stream",
     "text": [
      "/var/folders/gz/yrdfvq7156ggy1rjy5rj56gh0000gn/T/ipykernel_45597/3641994866.py:46: FutureWarning: Passing literal html to 'read_html' is deprecated and will be removed in a future version. To read from a literal string, wrap it in a 'StringIO' object.\n",
      "  df = pd.read_html(str(table))[0]  # Read table into DataFrame\n",
      "/var/folders/gz/yrdfvq7156ggy1rjy5rj56gh0000gn/T/ipykernel_45597/3641994866.py:46: FutureWarning: Passing literal html to 'read_html' is deprecated and will be removed in a future version. To read from a literal string, wrap it in a 'StringIO' object.\n",
      "  df = pd.read_html(str(table))[0]  # Read table into DataFrame\n"
     ]
    },
    {
     "name": "stdout",
     "output_type": "stream",
     "text": [
      "100\n"
     ]
    },
    {
     "name": "stderr",
     "output_type": "stream",
     "text": [
      "/var/folders/gz/yrdfvq7156ggy1rjy5rj56gh0000gn/T/ipykernel_45597/3641994866.py:46: FutureWarning: Passing literal html to 'read_html' is deprecated and will be removed in a future version. To read from a literal string, wrap it in a 'StringIO' object.\n",
      "  df = pd.read_html(str(table))[0]  # Read table into DataFrame\n"
     ]
    },
    {
     "name": "stdout",
     "output_type": "stream",
     "text": [
      "99\n"
     ]
    },
    {
     "name": "stderr",
     "output_type": "stream",
     "text": [
      "/var/folders/gz/yrdfvq7156ggy1rjy5rj56gh0000gn/T/ipykernel_45597/3641994866.py:46: FutureWarning: Passing literal html to 'read_html' is deprecated and will be removed in a future version. To read from a literal string, wrap it in a 'StringIO' object.\n",
      "  df = pd.read_html(str(table))[0]  # Read table into DataFrame\n"
     ]
    },
    {
     "name": "stdout",
     "output_type": "stream",
     "text": [
      "98\n",
      "97\n"
     ]
    },
    {
     "name": "stderr",
     "output_type": "stream",
     "text": [
      "/var/folders/gz/yrdfvq7156ggy1rjy5rj56gh0000gn/T/ipykernel_45597/3641994866.py:46: FutureWarning: Passing literal html to 'read_html' is deprecated and will be removed in a future version. To read from a literal string, wrap it in a 'StringIO' object.\n",
      "  df = pd.read_html(str(table))[0]  # Read table into DataFrame\n"
     ]
    },
    {
     "name": "stdout",
     "output_type": "stream",
     "text": [
      "96\n",
      "95\n"
     ]
    },
    {
     "name": "stderr",
     "output_type": "stream",
     "text": [
      "/var/folders/gz/yrdfvq7156ggy1rjy5rj56gh0000gn/T/ipykernel_45597/3641994866.py:46: FutureWarning: Passing literal html to 'read_html' is deprecated and will be removed in a future version. To read from a literal string, wrap it in a 'StringIO' object.\n",
      "  df = pd.read_html(str(table))[0]  # Read table into DataFrame\n",
      "/var/folders/gz/yrdfvq7156ggy1rjy5rj56gh0000gn/T/ipykernel_45597/3641994866.py:46: FutureWarning: Passing literal html to 'read_html' is deprecated and will be removed in a future version. To read from a literal string, wrap it in a 'StringIO' object.\n",
      "  df = pd.read_html(str(table))[0]  # Read table into DataFrame\n"
     ]
    },
    {
     "name": "stdout",
     "output_type": "stream",
     "text": [
      "94\n",
      "93\n",
      "92\n",
      "91\n",
      "90\n",
      "89\n"
     ]
    },
    {
     "name": "stderr",
     "output_type": "stream",
     "text": [
      "/var/folders/gz/yrdfvq7156ggy1rjy5rj56gh0000gn/T/ipykernel_45597/3641994866.py:46: FutureWarning: Passing literal html to 'read_html' is deprecated and will be removed in a future version. To read from a literal string, wrap it in a 'StringIO' object.\n",
      "  df = pd.read_html(str(table))[0]  # Read table into DataFrame\n",
      "/var/folders/gz/yrdfvq7156ggy1rjy5rj56gh0000gn/T/ipykernel_45597/3641994866.py:46: FutureWarning: Passing literal html to 'read_html' is deprecated and will be removed in a future version. To read from a literal string, wrap it in a 'StringIO' object.\n",
      "  df = pd.read_html(str(table))[0]  # Read table into DataFrame\n",
      "/var/folders/gz/yrdfvq7156ggy1rjy5rj56gh0000gn/T/ipykernel_45597/3641994866.py:46: FutureWarning: Passing literal html to 'read_html' is deprecated and will be removed in a future version. To read from a literal string, wrap it in a 'StringIO' object.\n",
      "  df = pd.read_html(str(table))[0]  # Read table into DataFrame\n",
      "/var/folders/gz/yrdfvq7156ggy1rjy5rj56gh0000gn/T/ipykernel_45597/3641994866.py:46: FutureWarning: Passing literal html to 'read_html' is deprecated and will be removed in a future version. To read from a literal string, wrap it in a 'StringIO' object.\n",
      "  df = pd.read_html(str(table))[0]  # Read table into DataFrame\n",
      "/var/folders/gz/yrdfvq7156ggy1rjy5rj56gh0000gn/T/ipykernel_45597/3641994866.py:46: FutureWarning: Passing literal html to 'read_html' is deprecated and will be removed in a future version. To read from a literal string, wrap it in a 'StringIO' object.\n",
      "  df = pd.read_html(str(table))[0]  # Read table into DataFrame\n",
      "/var/folders/gz/yrdfvq7156ggy1rjy5rj56gh0000gn/T/ipykernel_45597/3641994866.py:46: FutureWarning: Passing literal html to 'read_html' is deprecated and will be removed in a future version. To read from a literal string, wrap it in a 'StringIO' object.\n",
      "  df = pd.read_html(str(table))[0]  # Read table into DataFrame\n",
      "/var/folders/gz/yrdfvq7156ggy1rjy5rj56gh0000gn/T/ipykernel_45597/3641994866.py:46: FutureWarning: Passing literal html to 'read_html' is deprecated and will be removed in a future version. To read from a literal string, wrap it in a 'StringIO' object.\n",
      "  df = pd.read_html(str(table))[0]  # Read table into DataFrame\n",
      "/var/folders/gz/yrdfvq7156ggy1rjy5rj56gh0000gn/T/ipykernel_45597/3641994866.py:46: FutureWarning: Passing literal html to 'read_html' is deprecated and will be removed in a future version. To read from a literal string, wrap it in a 'StringIO' object.\n",
      "  df = pd.read_html(str(table))[0]  # Read table into DataFrame\n",
      "/var/folders/gz/yrdfvq7156ggy1rjy5rj56gh0000gn/T/ipykernel_45597/3641994866.py:46: FutureWarning: Passing literal html to 'read_html' is deprecated and will be removed in a future version. To read from a literal string, wrap it in a 'StringIO' object.\n",
      "  df = pd.read_html(str(table))[0]  # Read table into DataFrame\n",
      "/var/folders/gz/yrdfvq7156ggy1rjy5rj56gh0000gn/T/ipykernel_45597/3641994866.py:46: FutureWarning: Passing literal html to 'read_html' is deprecated and will be removed in a future version. To read from a literal string, wrap it in a 'StringIO' object.\n",
      "  df = pd.read_html(str(table))[0]  # Read table into DataFrame\n"
     ]
    },
    {
     "name": "stdout",
     "output_type": "stream",
     "text": [
      "88\n",
      "87\n",
      "86\n",
      "85\n"
     ]
    },
    {
     "name": "stderr",
     "output_type": "stream",
     "text": [
      "/var/folders/gz/yrdfvq7156ggy1rjy5rj56gh0000gn/T/ipykernel_45597/3641994866.py:46: FutureWarning: Passing literal html to 'read_html' is deprecated and will be removed in a future version. To read from a literal string, wrap it in a 'StringIO' object.\n",
      "  df = pd.read_html(str(table))[0]  # Read table into DataFrame\n",
      "/var/folders/gz/yrdfvq7156ggy1rjy5rj56gh0000gn/T/ipykernel_45597/3641994866.py:46: FutureWarning: Passing literal html to 'read_html' is deprecated and will be removed in a future version. To read from a literal string, wrap it in a 'StringIO' object.\n",
      "  df = pd.read_html(str(table))[0]  # Read table into DataFrame\n",
      "/var/folders/gz/yrdfvq7156ggy1rjy5rj56gh0000gn/T/ipykernel_45597/3641994866.py:46: FutureWarning: Passing literal html to 'read_html' is deprecated and will be removed in a future version. To read from a literal string, wrap it in a 'StringIO' object.\n",
      "  df = pd.read_html(str(table))[0]  # Read table into DataFrame\n",
      "/var/folders/gz/yrdfvq7156ggy1rjy5rj56gh0000gn/T/ipykernel_45597/3641994866.py:46: FutureWarning: Passing literal html to 'read_html' is deprecated and will be removed in a future version. To read from a literal string, wrap it in a 'StringIO' object.\n",
      "  df = pd.read_html(str(table))[0]  # Read table into DataFrame\n",
      "/var/folders/gz/yrdfvq7156ggy1rjy5rj56gh0000gn/T/ipykernel_45597/3641994866.py:46: FutureWarning: Passing literal html to 'read_html' is deprecated and will be removed in a future version. To read from a literal string, wrap it in a 'StringIO' object.\n",
      "  df = pd.read_html(str(table))[0]  # Read table into DataFrame\n",
      "/var/folders/gz/yrdfvq7156ggy1rjy5rj56gh0000gn/T/ipykernel_45597/3641994866.py:46: FutureWarning: Passing literal html to 'read_html' is deprecated and will be removed in a future version. To read from a literal string, wrap it in a 'StringIO' object.\n",
      "  df = pd.read_html(str(table))[0]  # Read table into DataFrame\n",
      "/var/folders/gz/yrdfvq7156ggy1rjy5rj56gh0000gn/T/ipykernel_45597/3641994866.py:46: FutureWarning: Passing literal html to 'read_html' is deprecated and will be removed in a future version. To read from a literal string, wrap it in a 'StringIO' object.\n",
      "  df = pd.read_html(str(table))[0]  # Read table into DataFrame\n",
      "/var/folders/gz/yrdfvq7156ggy1rjy5rj56gh0000gn/T/ipykernel_45597/3641994866.py:46: FutureWarning: Passing literal html to 'read_html' is deprecated and will be removed in a future version. To read from a literal string, wrap it in a 'StringIO' object.\n",
      "  df = pd.read_html(str(table))[0]  # Read table into DataFrame\n",
      "/var/folders/gz/yrdfvq7156ggy1rjy5rj56gh0000gn/T/ipykernel_45597/3641994866.py:46: FutureWarning: Passing literal html to 'read_html' is deprecated and will be removed in a future version. To read from a literal string, wrap it in a 'StringIO' object.\n",
      "  df = pd.read_html(str(table))[0]  # Read table into DataFrame\n",
      "/var/folders/gz/yrdfvq7156ggy1rjy5rj56gh0000gn/T/ipykernel_45597/3641994866.py:46: FutureWarning: Passing literal html to 'read_html' is deprecated and will be removed in a future version. To read from a literal string, wrap it in a 'StringIO' object.\n",
      "  df = pd.read_html(str(table))[0]  # Read table into DataFrame\n",
      "/var/folders/gz/yrdfvq7156ggy1rjy5rj56gh0000gn/T/ipykernel_45597/3641994866.py:46: FutureWarning: Passing literal html to 'read_html' is deprecated and will be removed in a future version. To read from a literal string, wrap it in a 'StringIO' object.\n",
      "  df = pd.read_html(str(table))[0]  # Read table into DataFrame\n",
      "/var/folders/gz/yrdfvq7156ggy1rjy5rj56gh0000gn/T/ipykernel_45597/3641994866.py:46: FutureWarning: Passing literal html to 'read_html' is deprecated and will be removed in a future version. To read from a literal string, wrap it in a 'StringIO' object.\n",
      "  df = pd.read_html(str(table))[0]  # Read table into DataFrame\n",
      "/var/folders/gz/yrdfvq7156ggy1rjy5rj56gh0000gn/T/ipykernel_45597/3641994866.py:46: FutureWarning: Passing literal html to 'read_html' is deprecated and will be removed in a future version. To read from a literal string, wrap it in a 'StringIO' object.\n",
      "  df = pd.read_html(str(table))[0]  # Read table into DataFrame\n",
      "/var/folders/gz/yrdfvq7156ggy1rjy5rj56gh0000gn/T/ipykernel_45597/3641994866.py:46: FutureWarning: Passing literal html to 'read_html' is deprecated and will be removed in a future version. To read from a literal string, wrap it in a 'StringIO' object.\n",
      "  df = pd.read_html(str(table))[0]  # Read table into DataFrame\n",
      "/var/folders/gz/yrdfvq7156ggy1rjy5rj56gh0000gn/T/ipykernel_45597/3641994866.py:46: FutureWarning: Passing literal html to 'read_html' is deprecated and will be removed in a future version. To read from a literal string, wrap it in a 'StringIO' object.\n",
      "  df = pd.read_html(str(table))[0]  # Read table into DataFrame\n"
     ]
    },
    {
     "name": "stdout",
     "output_type": "stream",
     "text": [
      "84\n",
      "83\n"
     ]
    },
    {
     "name": "stderr",
     "output_type": "stream",
     "text": [
      "/var/folders/gz/yrdfvq7156ggy1rjy5rj56gh0000gn/T/ipykernel_45597/3641994866.py:46: FutureWarning: Passing literal html to 'read_html' is deprecated and will be removed in a future version. To read from a literal string, wrap it in a 'StringIO' object.\n",
      "  df = pd.read_html(str(table))[0]  # Read table into DataFrame\n",
      "/var/folders/gz/yrdfvq7156ggy1rjy5rj56gh0000gn/T/ipykernel_45597/3641994866.py:46: FutureWarning: Passing literal html to 'read_html' is deprecated and will be removed in a future version. To read from a literal string, wrap it in a 'StringIO' object.\n",
      "  df = pd.read_html(str(table))[0]  # Read table into DataFrame\n"
     ]
    },
    {
     "name": "stdout",
     "output_type": "stream",
     "text": [
      "82\n",
      "81\n",
      "80\n",
      "79\n",
      "78\n",
      "77\n"
     ]
    },
    {
     "name": "stderr",
     "output_type": "stream",
     "text": [
      "/var/folders/gz/yrdfvq7156ggy1rjy5rj56gh0000gn/T/ipykernel_45597/3641994866.py:46: FutureWarning: Passing literal html to 'read_html' is deprecated and will be removed in a future version. To read from a literal string, wrap it in a 'StringIO' object.\n",
      "  df = pd.read_html(str(table))[0]  # Read table into DataFrame\n"
     ]
    },
    {
     "name": "stdout",
     "output_type": "stream",
     "text": [
      "76\n",
      "75\n"
     ]
    },
    {
     "name": "stderr",
     "output_type": "stream",
     "text": [
      "/var/folders/gz/yrdfvq7156ggy1rjy5rj56gh0000gn/T/ipykernel_45597/3641994866.py:46: FutureWarning: Passing literal html to 'read_html' is deprecated and will be removed in a future version. To read from a literal string, wrap it in a 'StringIO' object.\n",
      "  df = pd.read_html(str(table))[0]  # Read table into DataFrame\n"
     ]
    },
    {
     "name": "stdout",
     "output_type": "stream",
     "text": [
      "74\n"
     ]
    },
    {
     "name": "stderr",
     "output_type": "stream",
     "text": [
      "/var/folders/gz/yrdfvq7156ggy1rjy5rj56gh0000gn/T/ipykernel_45597/3641994866.py:46: FutureWarning: Passing literal html to 'read_html' is deprecated and will be removed in a future version. To read from a literal string, wrap it in a 'StringIO' object.\n",
      "  df = pd.read_html(str(table))[0]  # Read table into DataFrame\n",
      "/var/folders/gz/yrdfvq7156ggy1rjy5rj56gh0000gn/T/ipykernel_45597/3641994866.py:46: FutureWarning: Passing literal html to 'read_html' is deprecated and will be removed in a future version. To read from a literal string, wrap it in a 'StringIO' object.\n",
      "  df = pd.read_html(str(table))[0]  # Read table into DataFrame\n",
      "/var/folders/gz/yrdfvq7156ggy1rjy5rj56gh0000gn/T/ipykernel_45597/3641994866.py:46: FutureWarning: Passing literal html to 'read_html' is deprecated and will be removed in a future version. To read from a literal string, wrap it in a 'StringIO' object.\n",
      "  df = pd.read_html(str(table))[0]  # Read table into DataFrame\n"
     ]
    },
    {
     "name": "stdout",
     "output_type": "stream",
     "text": [
      "73\n",
      "72\n"
     ]
    },
    {
     "name": "stderr",
     "output_type": "stream",
     "text": [
      "/var/folders/gz/yrdfvq7156ggy1rjy5rj56gh0000gn/T/ipykernel_45597/3641994866.py:46: FutureWarning: Passing literal html to 'read_html' is deprecated and will be removed in a future version. To read from a literal string, wrap it in a 'StringIO' object.\n",
      "  df = pd.read_html(str(table))[0]  # Read table into DataFrame\n",
      "/var/folders/gz/yrdfvq7156ggy1rjy5rj56gh0000gn/T/ipykernel_45597/3641994866.py:46: FutureWarning: Passing literal html to 'read_html' is deprecated and will be removed in a future version. To read from a literal string, wrap it in a 'StringIO' object.\n",
      "  df = pd.read_html(str(table))[0]  # Read table into DataFrame\n"
     ]
    },
    {
     "name": "stdout",
     "output_type": "stream",
     "text": [
      "71\n",
      "70\n",
      "69\n",
      "68\n",
      "67\n",
      "66\n",
      "65\n",
      "64\n"
     ]
    },
    {
     "name": "stderr",
     "output_type": "stream",
     "text": [
      "/var/folders/gz/yrdfvq7156ggy1rjy5rj56gh0000gn/T/ipykernel_45597/3641994866.py:46: FutureWarning: Passing literal html to 'read_html' is deprecated and will be removed in a future version. To read from a literal string, wrap it in a 'StringIO' object.\n",
      "  df = pd.read_html(str(table))[0]  # Read table into DataFrame\n"
     ]
    },
    {
     "name": "stdout",
     "output_type": "stream",
     "text": [
      "63\n"
     ]
    },
    {
     "name": "stderr",
     "output_type": "stream",
     "text": [
      "/var/folders/gz/yrdfvq7156ggy1rjy5rj56gh0000gn/T/ipykernel_45597/3641994866.py:46: FutureWarning: Passing literal html to 'read_html' is deprecated and will be removed in a future version. To read from a literal string, wrap it in a 'StringIO' object.\n",
      "  df = pd.read_html(str(table))[0]  # Read table into DataFrame\n"
     ]
    },
    {
     "name": "stdout",
     "output_type": "stream",
     "text": [
      "62\n",
      "61\n",
      "60\n",
      "59\n",
      "58\n",
      "57\n"
     ]
    },
    {
     "name": "stderr",
     "output_type": "stream",
     "text": [
      "/var/folders/gz/yrdfvq7156ggy1rjy5rj56gh0000gn/T/ipykernel_45597/3641994866.py:46: FutureWarning: Passing literal html to 'read_html' is deprecated and will be removed in a future version. To read from a literal string, wrap it in a 'StringIO' object.\n",
      "  df = pd.read_html(str(table))[0]  # Read table into DataFrame\n",
      "/var/folders/gz/yrdfvq7156ggy1rjy5rj56gh0000gn/T/ipykernel_45597/3641994866.py:46: FutureWarning: Passing literal html to 'read_html' is deprecated and will be removed in a future version. To read from a literal string, wrap it in a 'StringIO' object.\n",
      "  df = pd.read_html(str(table))[0]  # Read table into DataFrame\n",
      "/var/folders/gz/yrdfvq7156ggy1rjy5rj56gh0000gn/T/ipykernel_45597/3641994866.py:46: FutureWarning: Passing literal html to 'read_html' is deprecated and will be removed in a future version. To read from a literal string, wrap it in a 'StringIO' object.\n",
      "  df = pd.read_html(str(table))[0]  # Read table into DataFrame\n",
      "/var/folders/gz/yrdfvq7156ggy1rjy5rj56gh0000gn/T/ipykernel_45597/3641994866.py:46: FutureWarning: Passing literal html to 'read_html' is deprecated and will be removed in a future version. To read from a literal string, wrap it in a 'StringIO' object.\n",
      "  df = pd.read_html(str(table))[0]  # Read table into DataFrame\n",
      "/var/folders/gz/yrdfvq7156ggy1rjy5rj56gh0000gn/T/ipykernel_45597/3641994866.py:46: FutureWarning: Passing literal html to 'read_html' is deprecated and will be removed in a future version. To read from a literal string, wrap it in a 'StringIO' object.\n",
      "  df = pd.read_html(str(table))[0]  # Read table into DataFrame\n"
     ]
    },
    {
     "name": "stdout",
     "output_type": "stream",
     "text": [
      "56\n"
     ]
    },
    {
     "name": "stderr",
     "output_type": "stream",
     "text": [
      "/var/folders/gz/yrdfvq7156ggy1rjy5rj56gh0000gn/T/ipykernel_45597/3641994866.py:46: FutureWarning: Passing literal html to 'read_html' is deprecated and will be removed in a future version. To read from a literal string, wrap it in a 'StringIO' object.\n",
      "  df = pd.read_html(str(table))[0]  # Read table into DataFrame\n",
      "/var/folders/gz/yrdfvq7156ggy1rjy5rj56gh0000gn/T/ipykernel_45597/3641994866.py:46: FutureWarning: Passing literal html to 'read_html' is deprecated and will be removed in a future version. To read from a literal string, wrap it in a 'StringIO' object.\n",
      "  df = pd.read_html(str(table))[0]  # Read table into DataFrame\n",
      "/var/folders/gz/yrdfvq7156ggy1rjy5rj56gh0000gn/T/ipykernel_45597/3641994866.py:46: FutureWarning: Passing literal html to 'read_html' is deprecated and will be removed in a future version. To read from a literal string, wrap it in a 'StringIO' object.\n",
      "  df = pd.read_html(str(table))[0]  # Read table into DataFrame\n",
      "/var/folders/gz/yrdfvq7156ggy1rjy5rj56gh0000gn/T/ipykernel_45597/3641994866.py:46: FutureWarning: Passing literal html to 'read_html' is deprecated and will be removed in a future version. To read from a literal string, wrap it in a 'StringIO' object.\n",
      "  df = pd.read_html(str(table))[0]  # Read table into DataFrame\n"
     ]
    },
    {
     "name": "stdout",
     "output_type": "stream",
     "text": [
      "55\n",
      "54\n"
     ]
    },
    {
     "name": "stderr",
     "output_type": "stream",
     "text": [
      "/var/folders/gz/yrdfvq7156ggy1rjy5rj56gh0000gn/T/ipykernel_45597/3641994866.py:46: FutureWarning: Passing literal html to 'read_html' is deprecated and will be removed in a future version. To read from a literal string, wrap it in a 'StringIO' object.\n",
      "  df = pd.read_html(str(table))[0]  # Read table into DataFrame\n",
      "/var/folders/gz/yrdfvq7156ggy1rjy5rj56gh0000gn/T/ipykernel_45597/3641994866.py:46: FutureWarning: Passing literal html to 'read_html' is deprecated and will be removed in a future version. To read from a literal string, wrap it in a 'StringIO' object.\n",
      "  df = pd.read_html(str(table))[0]  # Read table into DataFrame\n",
      "/var/folders/gz/yrdfvq7156ggy1rjy5rj56gh0000gn/T/ipykernel_45597/3641994866.py:46: FutureWarning: Passing literal html to 'read_html' is deprecated and will be removed in a future version. To read from a literal string, wrap it in a 'StringIO' object.\n",
      "  df = pd.read_html(str(table))[0]  # Read table into DataFrame\n",
      "/var/folders/gz/yrdfvq7156ggy1rjy5rj56gh0000gn/T/ipykernel_45597/3641994866.py:46: FutureWarning: Passing literal html to 'read_html' is deprecated and will be removed in a future version. To read from a literal string, wrap it in a 'StringIO' object.\n",
      "  df = pd.read_html(str(table))[0]  # Read table into DataFrame\n",
      "/var/folders/gz/yrdfvq7156ggy1rjy5rj56gh0000gn/T/ipykernel_45597/3641994866.py:46: FutureWarning: Passing literal html to 'read_html' is deprecated and will be removed in a future version. To read from a literal string, wrap it in a 'StringIO' object.\n",
      "  df = pd.read_html(str(table))[0]  # Read table into DataFrame\n"
     ]
    },
    {
     "name": "stdout",
     "output_type": "stream",
     "text": [
      "53\n"
     ]
    },
    {
     "name": "stderr",
     "output_type": "stream",
     "text": [
      "/var/folders/gz/yrdfvq7156ggy1rjy5rj56gh0000gn/T/ipykernel_45597/3641994866.py:46: FutureWarning: Passing literal html to 'read_html' is deprecated and will be removed in a future version. To read from a literal string, wrap it in a 'StringIO' object.\n",
      "  df = pd.read_html(str(table))[0]  # Read table into DataFrame\n",
      "/var/folders/gz/yrdfvq7156ggy1rjy5rj56gh0000gn/T/ipykernel_45597/3641994866.py:46: FutureWarning: Passing literal html to 'read_html' is deprecated and will be removed in a future version. To read from a literal string, wrap it in a 'StringIO' object.\n",
      "  df = pd.read_html(str(table))[0]  # Read table into DataFrame\n",
      "/var/folders/gz/yrdfvq7156ggy1rjy5rj56gh0000gn/T/ipykernel_45597/3641994866.py:46: FutureWarning: Passing literal html to 'read_html' is deprecated and will be removed in a future version. To read from a literal string, wrap it in a 'StringIO' object.\n",
      "  df = pd.read_html(str(table))[0]  # Read table into DataFrame\n",
      "/var/folders/gz/yrdfvq7156ggy1rjy5rj56gh0000gn/T/ipykernel_45597/3641994866.py:46: FutureWarning: Passing literal html to 'read_html' is deprecated and will be removed in a future version. To read from a literal string, wrap it in a 'StringIO' object.\n",
      "  df = pd.read_html(str(table))[0]  # Read table into DataFrame\n"
     ]
    },
    {
     "name": "stdout",
     "output_type": "stream",
     "text": [
      "52\n"
     ]
    },
    {
     "name": "stderr",
     "output_type": "stream",
     "text": [
      "/var/folders/gz/yrdfvq7156ggy1rjy5rj56gh0000gn/T/ipykernel_45597/3641994866.py:46: FutureWarning: Passing literal html to 'read_html' is deprecated and will be removed in a future version. To read from a literal string, wrap it in a 'StringIO' object.\n",
      "  df = pd.read_html(str(table))[0]  # Read table into DataFrame\n",
      "/var/folders/gz/yrdfvq7156ggy1rjy5rj56gh0000gn/T/ipykernel_45597/3641994866.py:46: FutureWarning: Passing literal html to 'read_html' is deprecated and will be removed in a future version. To read from a literal string, wrap it in a 'StringIO' object.\n",
      "  df = pd.read_html(str(table))[0]  # Read table into DataFrame\n",
      "/var/folders/gz/yrdfvq7156ggy1rjy5rj56gh0000gn/T/ipykernel_45597/3641994866.py:46: FutureWarning: Passing literal html to 'read_html' is deprecated and will be removed in a future version. To read from a literal string, wrap it in a 'StringIO' object.\n",
      "  df = pd.read_html(str(table))[0]  # Read table into DataFrame\n",
      "/var/folders/gz/yrdfvq7156ggy1rjy5rj56gh0000gn/T/ipykernel_45597/3641994866.py:46: FutureWarning: Passing literal html to 'read_html' is deprecated and will be removed in a future version. To read from a literal string, wrap it in a 'StringIO' object.\n",
      "  df = pd.read_html(str(table))[0]  # Read table into DataFrame\n",
      "/var/folders/gz/yrdfvq7156ggy1rjy5rj56gh0000gn/T/ipykernel_45597/3641994866.py:46: FutureWarning: Passing literal html to 'read_html' is deprecated and will be removed in a future version. To read from a literal string, wrap it in a 'StringIO' object.\n",
      "  df = pd.read_html(str(table))[0]  # Read table into DataFrame\n",
      "/var/folders/gz/yrdfvq7156ggy1rjy5rj56gh0000gn/T/ipykernel_45597/3641994866.py:46: FutureWarning: Passing literal html to 'read_html' is deprecated and will be removed in a future version. To read from a literal string, wrap it in a 'StringIO' object.\n",
      "  df = pd.read_html(str(table))[0]  # Read table into DataFrame\n",
      "/var/folders/gz/yrdfvq7156ggy1rjy5rj56gh0000gn/T/ipykernel_45597/3641994866.py:46: FutureWarning: Passing literal html to 'read_html' is deprecated and will be removed in a future version. To read from a literal string, wrap it in a 'StringIO' object.\n",
      "  df = pd.read_html(str(table))[0]  # Read table into DataFrame\n",
      "/var/folders/gz/yrdfvq7156ggy1rjy5rj56gh0000gn/T/ipykernel_45597/3641994866.py:46: FutureWarning: Passing literal html to 'read_html' is deprecated and will be removed in a future version. To read from a literal string, wrap it in a 'StringIO' object.\n",
      "  df = pd.read_html(str(table))[0]  # Read table into DataFrame\n"
     ]
    },
    {
     "name": "stdout",
     "output_type": "stream",
     "text": [
      "51\n",
      "50\n",
      "49\n",
      "48\n",
      "47\n"
     ]
    },
    {
     "name": "stderr",
     "output_type": "stream",
     "text": [
      "/var/folders/gz/yrdfvq7156ggy1rjy5rj56gh0000gn/T/ipykernel_45597/3641994866.py:46: FutureWarning: Passing literal html to 'read_html' is deprecated and will be removed in a future version. To read from a literal string, wrap it in a 'StringIO' object.\n",
      "  df = pd.read_html(str(table))[0]  # Read table into DataFrame\n"
     ]
    },
    {
     "name": "stdout",
     "output_type": "stream",
     "text": [
      "46\n"
     ]
    },
    {
     "name": "stderr",
     "output_type": "stream",
     "text": [
      "/var/folders/gz/yrdfvq7156ggy1rjy5rj56gh0000gn/T/ipykernel_45597/3641994866.py:46: FutureWarning: Passing literal html to 'read_html' is deprecated and will be removed in a future version. To read from a literal string, wrap it in a 'StringIO' object.\n",
      "  df = pd.read_html(str(table))[0]  # Read table into DataFrame\n",
      "/var/folders/gz/yrdfvq7156ggy1rjy5rj56gh0000gn/T/ipykernel_45597/3641994866.py:46: FutureWarning: Passing literal html to 'read_html' is deprecated and will be removed in a future version. To read from a literal string, wrap it in a 'StringIO' object.\n",
      "  df = pd.read_html(str(table))[0]  # Read table into DataFrame\n"
     ]
    },
    {
     "name": "stdout",
     "output_type": "stream",
     "text": [
      "45\n",
      "44\n",
      "43\n",
      "42\n",
      "41\n",
      "40\n",
      "39\n",
      "38\n",
      "37\n",
      "36\n",
      "35\n",
      "34\n"
     ]
    },
    {
     "name": "stderr",
     "output_type": "stream",
     "text": [
      "/var/folders/gz/yrdfvq7156ggy1rjy5rj56gh0000gn/T/ipykernel_45597/3641994866.py:46: FutureWarning: Passing literal html to 'read_html' is deprecated and will be removed in a future version. To read from a literal string, wrap it in a 'StringIO' object.\n",
      "  df = pd.read_html(str(table))[0]  # Read table into DataFrame\n"
     ]
    },
    {
     "name": "stdout",
     "output_type": "stream",
     "text": [
      "33\n",
      "32\n",
      "31\n",
      "30\n"
     ]
    },
    {
     "name": "stderr",
     "output_type": "stream",
     "text": [
      "/var/folders/gz/yrdfvq7156ggy1rjy5rj56gh0000gn/T/ipykernel_45597/3641994866.py:46: FutureWarning: Passing literal html to 'read_html' is deprecated and will be removed in a future version. To read from a literal string, wrap it in a 'StringIO' object.\n",
      "  df = pd.read_html(str(table))[0]  # Read table into DataFrame\n",
      "/var/folders/gz/yrdfvq7156ggy1rjy5rj56gh0000gn/T/ipykernel_45597/3641994866.py:46: FutureWarning: Passing literal html to 'read_html' is deprecated and will be removed in a future version. To read from a literal string, wrap it in a 'StringIO' object.\n",
      "  df = pd.read_html(str(table))[0]  # Read table into DataFrame\n",
      "/var/folders/gz/yrdfvq7156ggy1rjy5rj56gh0000gn/T/ipykernel_45597/3641994866.py:46: FutureWarning: Passing literal html to 'read_html' is deprecated and will be removed in a future version. To read from a literal string, wrap it in a 'StringIO' object.\n",
      "  df = pd.read_html(str(table))[0]  # Read table into DataFrame\n"
     ]
    },
    {
     "name": "stdout",
     "output_type": "stream",
     "text": [
      "29\n"
     ]
    },
    {
     "name": "stderr",
     "output_type": "stream",
     "text": [
      "/var/folders/gz/yrdfvq7156ggy1rjy5rj56gh0000gn/T/ipykernel_45597/3641994866.py:46: FutureWarning: Passing literal html to 'read_html' is deprecated and will be removed in a future version. To read from a literal string, wrap it in a 'StringIO' object.\n",
      "  df = pd.read_html(str(table))[0]  # Read table into DataFrame\n"
     ]
    },
    {
     "name": "stdout",
     "output_type": "stream",
     "text": [
      "28\n",
      "27\n",
      "26\n",
      "25\n",
      "24\n",
      "23\n"
     ]
    },
    {
     "name": "stderr",
     "output_type": "stream",
     "text": [
      "/var/folders/gz/yrdfvq7156ggy1rjy5rj56gh0000gn/T/ipykernel_45597/3641994866.py:46: FutureWarning: Passing literal html to 'read_html' is deprecated and will be removed in a future version. To read from a literal string, wrap it in a 'StringIO' object.\n",
      "  df = pd.read_html(str(table))[0]  # Read table into DataFrame\n",
      "/var/folders/gz/yrdfvq7156ggy1rjy5rj56gh0000gn/T/ipykernel_45597/3641994866.py:46: FutureWarning: Passing literal html to 'read_html' is deprecated and will be removed in a future version. To read from a literal string, wrap it in a 'StringIO' object.\n",
      "  df = pd.read_html(str(table))[0]  # Read table into DataFrame\n",
      "/var/folders/gz/yrdfvq7156ggy1rjy5rj56gh0000gn/T/ipykernel_45597/3641994866.py:46: FutureWarning: Passing literal html to 'read_html' is deprecated and will be removed in a future version. To read from a literal string, wrap it in a 'StringIO' object.\n",
      "  df = pd.read_html(str(table))[0]  # Read table into DataFrame\n",
      "/var/folders/gz/yrdfvq7156ggy1rjy5rj56gh0000gn/T/ipykernel_45597/3641994866.py:46: FutureWarning: Passing literal html to 'read_html' is deprecated and will be removed in a future version. To read from a literal string, wrap it in a 'StringIO' object.\n",
      "  df = pd.read_html(str(table))[0]  # Read table into DataFrame\n",
      "/var/folders/gz/yrdfvq7156ggy1rjy5rj56gh0000gn/T/ipykernel_45597/3641994866.py:46: FutureWarning: Passing literal html to 'read_html' is deprecated and will be removed in a future version. To read from a literal string, wrap it in a 'StringIO' object.\n",
      "  df = pd.read_html(str(table))[0]  # Read table into DataFrame\n",
      "/var/folders/gz/yrdfvq7156ggy1rjy5rj56gh0000gn/T/ipykernel_45597/3641994866.py:46: FutureWarning: Passing literal html to 'read_html' is deprecated and will be removed in a future version. To read from a literal string, wrap it in a 'StringIO' object.\n",
      "  df = pd.read_html(str(table))[0]  # Read table into DataFrame\n",
      "/var/folders/gz/yrdfvq7156ggy1rjy5rj56gh0000gn/T/ipykernel_45597/3641994866.py:46: FutureWarning: Passing literal html to 'read_html' is deprecated and will be removed in a future version. To read from a literal string, wrap it in a 'StringIO' object.\n",
      "  df = pd.read_html(str(table))[0]  # Read table into DataFrame\n"
     ]
    },
    {
     "name": "stdout",
     "output_type": "stream",
     "text": [
      "22\n"
     ]
    },
    {
     "name": "stderr",
     "output_type": "stream",
     "text": [
      "/var/folders/gz/yrdfvq7156ggy1rjy5rj56gh0000gn/T/ipykernel_45597/3641994866.py:46: FutureWarning: Passing literal html to 'read_html' is deprecated and will be removed in a future version. To read from a literal string, wrap it in a 'StringIO' object.\n",
      "  df = pd.read_html(str(table))[0]  # Read table into DataFrame\n"
     ]
    },
    {
     "name": "stdout",
     "output_type": "stream",
     "text": [
      "21\n"
     ]
    },
    {
     "name": "stderr",
     "output_type": "stream",
     "text": [
      "/var/folders/gz/yrdfvq7156ggy1rjy5rj56gh0000gn/T/ipykernel_45597/3641994866.py:46: FutureWarning: Passing literal html to 'read_html' is deprecated and will be removed in a future version. To read from a literal string, wrap it in a 'StringIO' object.\n",
      "  df = pd.read_html(str(table))[0]  # Read table into DataFrame\n"
     ]
    },
    {
     "name": "stdout",
     "output_type": "stream",
     "text": [
      "20\n"
     ]
    },
    {
     "name": "stderr",
     "output_type": "stream",
     "text": [
      "/var/folders/gz/yrdfvq7156ggy1rjy5rj56gh0000gn/T/ipykernel_45597/3641994866.py:46: FutureWarning: Passing literal html to 'read_html' is deprecated and will be removed in a future version. To read from a literal string, wrap it in a 'StringIO' object.\n",
      "  df = pd.read_html(str(table))[0]  # Read table into DataFrame\n",
      "/var/folders/gz/yrdfvq7156ggy1rjy5rj56gh0000gn/T/ipykernel_45597/3641994866.py:46: FutureWarning: Passing literal html to 'read_html' is deprecated and will be removed in a future version. To read from a literal string, wrap it in a 'StringIO' object.\n",
      "  df = pd.read_html(str(table))[0]  # Read table into DataFrame\n",
      "/var/folders/gz/yrdfvq7156ggy1rjy5rj56gh0000gn/T/ipykernel_45597/3641994866.py:46: FutureWarning: Passing literal html to 'read_html' is deprecated and will be removed in a future version. To read from a literal string, wrap it in a 'StringIO' object.\n",
      "  df = pd.read_html(str(table))[0]  # Read table into DataFrame\n",
      "/var/folders/gz/yrdfvq7156ggy1rjy5rj56gh0000gn/T/ipykernel_45597/3641994866.py:46: FutureWarning: Passing literal html to 'read_html' is deprecated and will be removed in a future version. To read from a literal string, wrap it in a 'StringIO' object.\n",
      "  df = pd.read_html(str(table))[0]  # Read table into DataFrame\n",
      "/var/folders/gz/yrdfvq7156ggy1rjy5rj56gh0000gn/T/ipykernel_45597/3641994866.py:46: FutureWarning: Passing literal html to 'read_html' is deprecated and will be removed in a future version. To read from a literal string, wrap it in a 'StringIO' object.\n",
      "  df = pd.read_html(str(table))[0]  # Read table into DataFrame\n",
      "/var/folders/gz/yrdfvq7156ggy1rjy5rj56gh0000gn/T/ipykernel_45597/3641994866.py:46: FutureWarning: Passing literal html to 'read_html' is deprecated and will be removed in a future version. To read from a literal string, wrap it in a 'StringIO' object.\n",
      "  df = pd.read_html(str(table))[0]  # Read table into DataFrame\n",
      "/var/folders/gz/yrdfvq7156ggy1rjy5rj56gh0000gn/T/ipykernel_45597/3641994866.py:46: FutureWarning: Passing literal html to 'read_html' is deprecated and will be removed in a future version. To read from a literal string, wrap it in a 'StringIO' object.\n",
      "  df = pd.read_html(str(table))[0]  # Read table into DataFrame\n",
      "/var/folders/gz/yrdfvq7156ggy1rjy5rj56gh0000gn/T/ipykernel_45597/3641994866.py:46: FutureWarning: Passing literal html to 'read_html' is deprecated and will be removed in a future version. To read from a literal string, wrap it in a 'StringIO' object.\n",
      "  df = pd.read_html(str(table))[0]  # Read table into DataFrame\n"
     ]
    },
    {
     "name": "stdout",
     "output_type": "stream",
     "text": [
      "19\n",
      "18\n",
      "17\n",
      "16\n"
     ]
    },
    {
     "name": "stderr",
     "output_type": "stream",
     "text": [
      "/var/folders/gz/yrdfvq7156ggy1rjy5rj56gh0000gn/T/ipykernel_45597/3641994866.py:46: FutureWarning: Passing literal html to 'read_html' is deprecated and will be removed in a future version. To read from a literal string, wrap it in a 'StringIO' object.\n",
      "  df = pd.read_html(str(table))[0]  # Read table into DataFrame\n"
     ]
    },
    {
     "name": "stdout",
     "output_type": "stream",
     "text": [
      "15\n"
     ]
    },
    {
     "name": "stderr",
     "output_type": "stream",
     "text": [
      "/var/folders/gz/yrdfvq7156ggy1rjy5rj56gh0000gn/T/ipykernel_45597/3641994866.py:46: FutureWarning: Passing literal html to 'read_html' is deprecated and will be removed in a future version. To read from a literal string, wrap it in a 'StringIO' object.\n",
      "  df = pd.read_html(str(table))[0]  # Read table into DataFrame\n",
      "/var/folders/gz/yrdfvq7156ggy1rjy5rj56gh0000gn/T/ipykernel_45597/3641994866.py:46: FutureWarning: Passing literal html to 'read_html' is deprecated and will be removed in a future version. To read from a literal string, wrap it in a 'StringIO' object.\n",
      "  df = pd.read_html(str(table))[0]  # Read table into DataFrame\n",
      "/var/folders/gz/yrdfvq7156ggy1rjy5rj56gh0000gn/T/ipykernel_45597/3641994866.py:46: FutureWarning: Passing literal html to 'read_html' is deprecated and will be removed in a future version. To read from a literal string, wrap it in a 'StringIO' object.\n",
      "  df = pd.read_html(str(table))[0]  # Read table into DataFrame\n"
     ]
    },
    {
     "name": "stdout",
     "output_type": "stream",
     "text": [
      "14\n"
     ]
    },
    {
     "name": "stderr",
     "output_type": "stream",
     "text": [
      "/var/folders/gz/yrdfvq7156ggy1rjy5rj56gh0000gn/T/ipykernel_45597/3641994866.py:46: FutureWarning: Passing literal html to 'read_html' is deprecated and will be removed in a future version. To read from a literal string, wrap it in a 'StringIO' object.\n",
      "  df = pd.read_html(str(table))[0]  # Read table into DataFrame\n"
     ]
    },
    {
     "name": "stdout",
     "output_type": "stream",
     "text": [
      "13\n"
     ]
    },
    {
     "name": "stderr",
     "output_type": "stream",
     "text": [
      "/var/folders/gz/yrdfvq7156ggy1rjy5rj56gh0000gn/T/ipykernel_45597/3641994866.py:46: FutureWarning: Passing literal html to 'read_html' is deprecated and will be removed in a future version. To read from a literal string, wrap it in a 'StringIO' object.\n",
      "  df = pd.read_html(str(table))[0]  # Read table into DataFrame\n"
     ]
    },
    {
     "name": "stdout",
     "output_type": "stream",
     "text": [
      "12\n",
      "11\n"
     ]
    },
    {
     "name": "stderr",
     "output_type": "stream",
     "text": [
      "/var/folders/gz/yrdfvq7156ggy1rjy5rj56gh0000gn/T/ipykernel_45597/3641994866.py:46: FutureWarning: Passing literal html to 'read_html' is deprecated and will be removed in a future version. To read from a literal string, wrap it in a 'StringIO' object.\n",
      "  df = pd.read_html(str(table))[0]  # Read table into DataFrame\n"
     ]
    },
    {
     "name": "stdout",
     "output_type": "stream",
     "text": [
      "10\n",
      "9\n",
      "8\n",
      "7\n"
     ]
    },
    {
     "name": "stderr",
     "output_type": "stream",
     "text": [
      "/var/folders/gz/yrdfvq7156ggy1rjy5rj56gh0000gn/T/ipykernel_45597/3641994866.py:46: FutureWarning: Passing literal html to 'read_html' is deprecated and will be removed in a future version. To read from a literal string, wrap it in a 'StringIO' object.\n",
      "  df = pd.read_html(str(table))[0]  # Read table into DataFrame\n",
      "/var/folders/gz/yrdfvq7156ggy1rjy5rj56gh0000gn/T/ipykernel_45597/3641994866.py:46: FutureWarning: Passing literal html to 'read_html' is deprecated and will be removed in a future version. To read from a literal string, wrap it in a 'StringIO' object.\n",
      "  df = pd.read_html(str(table))[0]  # Read table into DataFrame\n",
      "/var/folders/gz/yrdfvq7156ggy1rjy5rj56gh0000gn/T/ipykernel_45597/3641994866.py:46: FutureWarning: Passing literal html to 'read_html' is deprecated and will be removed in a future version. To read from a literal string, wrap it in a 'StringIO' object.\n",
      "  df = pd.read_html(str(table))[0]  # Read table into DataFrame\n"
     ]
    },
    {
     "name": "stdout",
     "output_type": "stream",
     "text": [
      "6\n"
     ]
    },
    {
     "name": "stderr",
     "output_type": "stream",
     "text": [
      "/var/folders/gz/yrdfvq7156ggy1rjy5rj56gh0000gn/T/ipykernel_45597/3641994866.py:46: FutureWarning: Passing literal html to 'read_html' is deprecated and will be removed in a future version. To read from a literal string, wrap it in a 'StringIO' object.\n",
      "  df = pd.read_html(str(table))[0]  # Read table into DataFrame\n",
      "/var/folders/gz/yrdfvq7156ggy1rjy5rj56gh0000gn/T/ipykernel_45597/3641994866.py:46: FutureWarning: Passing literal html to 'read_html' is deprecated and will be removed in a future version. To read from a literal string, wrap it in a 'StringIO' object.\n",
      "  df = pd.read_html(str(table))[0]  # Read table into DataFrame\n"
     ]
    },
    {
     "name": "stdout",
     "output_type": "stream",
     "text": [
      "5\n"
     ]
    },
    {
     "name": "stderr",
     "output_type": "stream",
     "text": [
      "/var/folders/gz/yrdfvq7156ggy1rjy5rj56gh0000gn/T/ipykernel_45597/3641994866.py:46: FutureWarning: Passing literal html to 'read_html' is deprecated and will be removed in a future version. To read from a literal string, wrap it in a 'StringIO' object.\n",
      "  df = pd.read_html(str(table))[0]  # Read table into DataFrame\n"
     ]
    },
    {
     "name": "stdout",
     "output_type": "stream",
     "text": [
      "4\n",
      "3\n"
     ]
    },
    {
     "name": "stderr",
     "output_type": "stream",
     "text": [
      "/var/folders/gz/yrdfvq7156ggy1rjy5rj56gh0000gn/T/ipykernel_45597/3641994866.py:46: FutureWarning: Passing literal html to 'read_html' is deprecated and will be removed in a future version. To read from a literal string, wrap it in a 'StringIO' object.\n",
      "  df = pd.read_html(str(table))[0]  # Read table into DataFrame\n",
      "/var/folders/gz/yrdfvq7156ggy1rjy5rj56gh0000gn/T/ipykernel_45597/3641994866.py:46: FutureWarning: Passing literal html to 'read_html' is deprecated and will be removed in a future version. To read from a literal string, wrap it in a 'StringIO' object.\n",
      "  df = pd.read_html(str(table))[0]  # Read table into DataFrame\n",
      "/var/folders/gz/yrdfvq7156ggy1rjy5rj56gh0000gn/T/ipykernel_45597/3641994866.py:46: FutureWarning: Passing literal html to 'read_html' is deprecated and will be removed in a future version. To read from a literal string, wrap it in a 'StringIO' object.\n",
      "  df = pd.read_html(str(table))[0]  # Read table into DataFrame\n",
      "/var/folders/gz/yrdfvq7156ggy1rjy5rj56gh0000gn/T/ipykernel_45597/3641994866.py:46: FutureWarning: Passing literal html to 'read_html' is deprecated and will be removed in a future version. To read from a literal string, wrap it in a 'StringIO' object.\n",
      "  df = pd.read_html(str(table))[0]  # Read table into DataFrame\n"
     ]
    },
    {
     "name": "stdout",
     "output_type": "stream",
     "text": [
      "2\n"
     ]
    },
    {
     "name": "stderr",
     "output_type": "stream",
     "text": [
      "/var/folders/gz/yrdfvq7156ggy1rjy5rj56gh0000gn/T/ipykernel_45597/3641994866.py:46: FutureWarning: Passing literal html to 'read_html' is deprecated and will be removed in a future version. To read from a literal string, wrap it in a 'StringIO' object.\n",
      "  df = pd.read_html(str(table))[0]  # Read table into DataFrame\n",
      "/var/folders/gz/yrdfvq7156ggy1rjy5rj56gh0000gn/T/ipykernel_45597/3641994866.py:46: FutureWarning: Passing literal html to 'read_html' is deprecated and will be removed in a future version. To read from a literal string, wrap it in a 'StringIO' object.\n",
      "  df = pd.read_html(str(table))[0]  # Read table into DataFrame\n",
      "/var/folders/gz/yrdfvq7156ggy1rjy5rj56gh0000gn/T/ipykernel_45597/3641994866.py:46: FutureWarning: Passing literal html to 'read_html' is deprecated and will be removed in a future version. To read from a literal string, wrap it in a 'StringIO' object.\n",
      "  df = pd.read_html(str(table))[0]  # Read table into DataFrame\n",
      "/var/folders/gz/yrdfvq7156ggy1rjy5rj56gh0000gn/T/ipykernel_45597/3641994866.py:46: FutureWarning: Passing literal html to 'read_html' is deprecated and will be removed in a future version. To read from a literal string, wrap it in a 'StringIO' object.\n",
      "  df = pd.read_html(str(table))[0]  # Read table into DataFrame\n",
      "/var/folders/gz/yrdfvq7156ggy1rjy5rj56gh0000gn/T/ipykernel_45597/3641994866.py:46: FutureWarning: Passing literal html to 'read_html' is deprecated and will be removed in a future version. To read from a literal string, wrap it in a 'StringIO' object.\n",
      "  df = pd.read_html(str(table))[0]  # Read table into DataFrame\n",
      "/var/folders/gz/yrdfvq7156ggy1rjy5rj56gh0000gn/T/ipykernel_45597/3641994866.py:46: FutureWarning: Passing literal html to 'read_html' is deprecated and will be removed in a future version. To read from a literal string, wrap it in a 'StringIO' object.\n",
      "  df = pd.read_html(str(table))[0]  # Read table into DataFrame\n",
      "/var/folders/gz/yrdfvq7156ggy1rjy5rj56gh0000gn/T/ipykernel_45597/3641994866.py:46: FutureWarning: Passing literal html to 'read_html' is deprecated and will be removed in a future version. To read from a literal string, wrap it in a 'StringIO' object.\n",
      "  df = pd.read_html(str(table))[0]  # Read table into DataFrame\n",
      "/var/folders/gz/yrdfvq7156ggy1rjy5rj56gh0000gn/T/ipykernel_45597/3641994866.py:46: FutureWarning: Passing literal html to 'read_html' is deprecated and will be removed in a future version. To read from a literal string, wrap it in a 'StringIO' object.\n",
      "  df = pd.read_html(str(table))[0]  # Read table into DataFrame\n",
      "/var/folders/gz/yrdfvq7156ggy1rjy5rj56gh0000gn/T/ipykernel_45597/3641994866.py:46: FutureWarning: Passing literal html to 'read_html' is deprecated and will be removed in a future version. To read from a literal string, wrap it in a 'StringIO' object.\n",
      "  df = pd.read_html(str(table))[0]  # Read table into DataFrame\n"
     ]
    },
    {
     "name": "stdout",
     "output_type": "stream",
     "text": [
      "1\n"
     ]
    }
   ],
   "source": [
    "import requests\n",
    "from bs4 import BeautifulSoup\n",
    "import pandas as pd\n",
    "import re\n",
    "import time\n",
    "import os\n",
    "from urllib.parse import urljoin\n",
    "\n",
    "WIKI_BASE_URL = \"https://en.wikipedia.org\"\n",
    "OUTPUT_DIR = \"../data/zianp/wiki_test/\"\n",
    "\n",
    "# Create output directory if not exists\n",
    "os.makedirs(OUTPUT_DIR, exist_ok=True)\n",
    "\n",
    "def get_wikipedia_content(OUTPUT_DIR, url):\n",
    "    \"\"\"Fetch and extract main text and tables from a Wikipedia page.\"\"\"\n",
    "    response = requests.get(url)\n",
    "    if response.status_code != 200:\n",
    "        return None, None\n",
    "    \n",
    "    soup = BeautifulSoup(response.text, 'html.parser')\n",
    "\n",
    "    # Extract page title\n",
    "    title = soup.find(\"h1\", {\"id\": \"firstHeading\"}).text.strip()\n",
    "\n",
    "    OUTPUT_DIR = os.path.join(OUTPUT_DIR, title)\n",
    "    os.makedirs(OUTPUT_DIR, exist_ok=True)\n",
    "\n",
    "    # Extract main text content\n",
    "    content_div = soup.find(\"div\", {\"id\": \"bodyContent\"})\n",
    "    if not content_div:\n",
    "        return title, None\n",
    "\n",
    "    paragraphs = content_div.find_all(\"p\", recursive=True)\n",
    "    text = \"\\n\".join(p.get_text() for p in paragraphs if p.get_text().strip())\n",
    "\n",
    "    # Remove reference markers like [1], [2], etc.\n",
    "    cleaned_text = re.sub(r'\\[\\d+\\]', '', text)\n",
    "\n",
    "    # Extract tables\n",
    "    tables = soup.find_all(\"table\", {\"class\": \"wikitable\"})\n",
    "    table_texts = []\n",
    "    \n",
    "\n",
    "    for i, table in enumerate(tables):\n",
    "        df = pd.read_html(str(table))[0]  # Read table into DataFrame\n",
    "        # makedir OUTPUT_DIR + tables\n",
    "        os.makedirs(os.path.join(OUTPUT_DIR, \"tables\"), exist_ok=True)\n",
    "        table_filename = os.path.join(OUTPUT_DIR, \"tables\", f\"{title}_table_{i+1}.csv\")\n",
    "        df.to_csv(table_filename, index=False)  # Save table as CSV\n",
    "        # table_texts.append(f\"\\n[Table {i+1} saved as {table_filename}]\\n\")\n",
    "\n",
    "    # Append table info to content\n",
    "    final_content = cleaned_text + \"\\n\\n\" + \"\\n\".join(table_texts)\n",
    "    \n",
    "    return title, final_content, OUTPUT_DIR\n",
    "\n",
    "def save_content(title, content, new_out):\n",
    "    \"\"\"Save Wikipedia content to a text file.\"\"\"\n",
    "    if not content:\n",
    "        return\n",
    "    \n",
    "    filename = re.sub(r'[\\\\/*?:\"<>|]', \"\", title) + \".txt\"\n",
    "    filepath = os.path.join(new_out, filename)\n",
    "\n",
    "    with open(filepath, \"w\", encoding=\"utf-8\") as file:\n",
    "        file.write(content)\n",
    "    \n",
    "    # print(f\"Saved: {filepath}\")\n",
    "\n",
    "def find_wiki_links(url, max_links=5):\n",
    "    \"\"\"Find internal Wikipedia links from a given page.\"\"\"\n",
    "    response = requests.get(url)\n",
    "    if response.status_code != 200:\n",
    "        return []\n",
    "    \n",
    "    soup = BeautifulSoup(response.text, 'html.parser')\n",
    "    links = set()\n",
    "\n",
    "    # find all the links in the bodyContent div\n",
    "    for link in soup.select(\"div#bodyContent a[href^='/wiki/']\"):\n",
    "        if len(links) >= max_links:\n",
    "            break\n",
    "        full_url = urljoin(WIKI_BASE_URL, link['href'])\n",
    "        if \":\" not in link['href']:  # Avoid special pages\n",
    "            links.add(full_url)\n",
    "        \n",
    "    \n",
    "    return list(links)\n",
    "\n",
    "def crawl_wikipedia(start_url, depth=2, max_links = 5):\n",
    "    \"\"\"Crawl Wikipedia starting from `start_url` up to a given depth.\"\"\"\n",
    "    to_visit = [(start_url, 0)]\n",
    "\n",
    "    while to_visit:\n",
    "        print(len(to_visit))\n",
    "        url, level = to_visit.pop(0)\n",
    "        if url in visited or level > depth:\n",
    "            continue\n",
    "        \n",
    "        # print(f\"Crawling: {url} (Depth {level})\")\n",
    "        visited.add(url)\n",
    "\n",
    "        title, content, new_out = get_wikipedia_content(OUTPUT_DIR, url)\n",
    "        if content:\n",
    "            save_content(title, content, new_out)\n",
    "\n",
    "        if level < depth:\n",
    "            new_links = find_wiki_links(url, max_links=max_links)\n",
    "            to_visit.extend((link, level + 1) for link in new_links)\n",
    "\n",
    "        time.sleep(1)  # Be polite to Wikipedia servers\n",
    "\n",
    "# Example usage: Crawl Wikipedia starting from the \"Pittsburgh\" page\n",
    "    \"\"\"Crawl Wikipedia starting from `start_url` up to a given depth.\"\"\"\n",
    "visited = set()\n",
    "# start_url = [\"https://en.wikipedia.org/wiki/History_of_Pittsburgh\", \"https://en.wikipedia.org/wiki/Pittsburgh\"]\n",
    "# start_url = [\"https://en.wikipedia.org/wiki/List_of_museums_in_Pittsburgh\"]\n",
    "start_url = [\"https://en.wikipedia.org/wiki/Carnegie_Mellon_University\"]\n",
    "for url in start_url:\n",
    "    crawl_wikipedia(url, depth=1, max_links= 100)\n"
   ]
  },
  {
   "cell_type": "code",
   "execution_count": 11,
   "metadata": {},
   "outputs": [],
   "source": [
    "df = pd.read_csv(\"wiki_pages/Pittsburgh_table_3.csv\")"
   ]
  },
  {
   "cell_type": "code",
   "execution_count": 16,
   "metadata": {},
   "outputs": [],
   "source": [
    "s  = \"\"\"\n",
    "Spain Bilbao, Spain\n",
    "Vietnam Da Nang, Vietnam\n",
    "Paraguay Fernando de la Mora, Paraguay\n",
    "Turkey Gaziantep, Turkey\n",
    "Scotland Glasgow, Scotland\n",
    "Israel Karmiel, Israel\n",
    "Cuba Matanzas, Cuba\n",
    "Israel Misgav, Israel\n",
    "Mexico Naucalpan, Mexico\n",
    "Czech Republic Ostrava, Czech Republic\n",
    "Slovakia Prešov, Slovakia\n",
    "Germany Saarbrücken, Germany\n",
    "Japan Saitama, Japan\n",
    "Nicaragua San Isidro, Nicaragua\n",
    "England Sheffield, England[g]\n",
    "North Macedonia Skopje, North Macedonia\n",
    "Bulgaria Sofia, Bulgaria\n",
    "China Wuhan, China\n",
    "Croatia Zagreb, Croatia\n",
    "\n",
    "\"\"\""
   ]
  },
  {
   "cell_type": "code",
   "execution_count": 17,
   "metadata": {},
   "outputs": [],
   "source": [
    "s = s.split(\"\\n\")"
   ]
  },
  {
   "cell_type": "code",
   "execution_count": 21,
   "metadata": {},
   "outputs": [
    {
     "name": "stdout",
     "output_type": "stream",
     "text": [
      "|Spain Bilbao, Spain|Vietnam Da Nang, Vietnam|Paraguay Fernando de la Mora, Paraguay|Turkey Gaziantep, Turkey|Scotland Glasgow, Scotland|Israel Karmiel, Israel|Cuba Matanzas, Cuba|Israel Misgav, Israel|Mexico Naucalpan, Mexico|Czech Republic Ostrava, Czech Republic|Slovakia Prešov, Slovakia|Germany Saarbrücken, Germany|Japan Saitama, Japan|Nicaragua San Isidro, Nicaragua|England Sheffield, England[g]|North Macedonia Skopje, North Macedonia|Bulgaria Sofia, Bulgaria|China Wuhan, China|Croatia Zagreb, Croatia||\n"
     ]
    }
   ],
   "source": [
    "print('|'.join(s))"
   ]
  },
  {
   "cell_type": "code",
   "execution_count": null,
   "metadata": {},
   "outputs": [],
   "source": []
  }
 ],
 "metadata": {
  "kernelspec": {
   "display_name": "anlp-hw2",
   "language": "python",
   "name": "python3"
  },
  "language_info": {
   "codemirror_mode": {
    "name": "ipython",
    "version": 3
   },
   "file_extension": ".py",
   "mimetype": "text/x-python",
   "name": "python",
   "nbconvert_exporter": "python",
   "pygments_lexer": "ipython3",
   "version": "3.9.21"
  }
 },
 "nbformat": 4,
 "nbformat_minor": 2
}
