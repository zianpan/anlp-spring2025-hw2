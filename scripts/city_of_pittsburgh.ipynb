{
 "cells": [
  {
   "cell_type": "code",
   "execution_count": null,
   "metadata": {
    "vscode": {
     "languageId": "plaintext"
    }
   },
   "outputs": [],
   "source": [
    "# website: https://www.pittsburghpa.gov/\n",
    "The precision issue you ran into is really interesting—it's one of those subtle but critical details that can easily go unnoticed. Normalizing ranks after each iteration seems like a solid fix to maintain correctness.\n",
    "\n",
    "Your performance optimization steps are also great takeaways. Caching while carefully unpersisting previous iterations is a smart way to balance memory usage, and tuning Spark’s configuration can make a huge difference in execution time. It’s impressive that you took the time to experiment with different parameters in run.sh—those small tweaks can be the key to meeting performance targets. Definitely a valuable learning experience for handling large-scale graph processing in the cloud!"
   ]
  }
 ],
 "metadata": {
  "language_info": {
   "name": "python"
  }
 },
 "nbformat": 4,
 "nbformat_minor": 2
}
