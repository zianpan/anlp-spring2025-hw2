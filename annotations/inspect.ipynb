{
 "cells": [
  {
   "cell_type": "code",
   "execution_count": 1,
   "metadata": {},
   "outputs": [],
   "source": [
    "import pandas as pd"
   ]
  },
  {
   "cell_type": "code",
   "execution_count": 3,
   "metadata": {},
   "outputs": [],
   "source": [
    "df = pd.read_csv('../results/test_qa400_Qwen2.5-7B-Instruct_ck512_ckolap100_retop4.csv')"
   ]
  },
  {
   "cell_type": "code",
   "execution_count": 5,
   "metadata": {},
   "outputs": [
    {
     "data": {
      "text/plain": [
       "0                                       William Pitt I  \n",
       "1      1900 for tech school, 1913 for Mellon Institut...\n",
       "2                                    Monumental Bridge  \n",
       "3                                      Moorad Choudhry  \n",
       "4                                           Matt Light I\n",
       "                             ...                        \n",
       "430    Pittsburgh, PA I don't know. The text doesn't ...\n",
       "431                                         Pittsburgh  \n",
       "432    Carnegie Mellon University I don't know. Based...\n",
       "433    Hilarity Unleashed Tour I don't know. The text...\n",
       "434    Maja Milic-Frayling I don't know. Based on the...\n",
       "Name: answer, Length: 435, dtype: object"
      ]
     },
     "execution_count": 5,
     "metadata": {},
     "output_type": "execute_result"
    }
   ],
   "source": [
    "df['answer']"
   ]
  },
  {
   "cell_type": "code",
   "execution_count": null,
   "metadata": {},
   "outputs": [],
   "source": []
  }
 ],
 "metadata": {
  "kernelspec": {
   "display_name": "anlp",
   "language": "python",
   "name": "python3"
  },
  "language_info": {
   "codemirror_mode": {
    "name": "ipython",
    "version": 3
   },
   "file_extension": ".py",
   "mimetype": "text/x-python",
   "name": "python",
   "nbconvert_exporter": "python",
   "pygments_lexer": "ipython3",
   "version": "3.9.21"
  }
 },
 "nbformat": 4,
 "nbformat_minor": 2
}
